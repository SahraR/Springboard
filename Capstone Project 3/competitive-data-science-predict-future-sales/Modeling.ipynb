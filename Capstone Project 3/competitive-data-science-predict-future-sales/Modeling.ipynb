{
 "cells": [
  {
   "cell_type": "code",
   "execution_count": 1,
   "id": "a56e5a18",
   "metadata": {},
   "outputs": [],
   "source": [
    "# Import basic modules\n",
    "import numpy as np\n",
    "import pandas as pd\n",
    "import scipy.stats as stats\n",
    "import matplotlib.pyplot as plt\n",
    "import sklearn\n",
    "import statsmodels.formula.api as sm\n",
    "\n",
    "\n",
    "# Modeling\n",
    "from sklearn import linear_model, preprocessing\n",
    "from sklearn.metrics import r2_score, mean_squared_error, mean_absolute_error\n",
    "import statsmodels.api as sm \n",
    "from sklearn.linear_model import LinearRegression\n",
    "from sklearn.model_selection import train_test_split, cross_validate, GridSearchCV, learning_curve\n",
    "from sklearn.ensemble import RandomForestRegressor\n",
    "from sklearn.tree import DecisionTreeRegressor"
   ]
  },
  {
   "cell_type": "code",
   "execution_count": 2,
   "id": "e6d81222",
   "metadata": {},
   "outputs": [],
   "source": [
    " #Import the provincial data previously cleaned, explored, feature-engineered and... \n",
    "# ..stored as cleaned_train.csv\n",
    "\n",
    "data= pd.read_csv('cleaned_train.csv')"
   ]
  },
  {
   "cell_type": "code",
   "execution_count": 3,
   "id": "f069e8ef",
   "metadata": {},
   "outputs": [],
   "source": [
    "data=data.drop('Unnamed: 0',axis=1)"
   ]
  },
  {
   "cell_type": "code",
   "execution_count": 4,
   "id": "c7b6663e",
   "metadata": {},
   "outputs": [
    {
     "data": {
      "text/html": [
       "<div>\n",
       "<style scoped>\n",
       "    .dataframe tbody tr th:only-of-type {\n",
       "        vertical-align: middle;\n",
       "    }\n",
       "\n",
       "    .dataframe tbody tr th {\n",
       "        vertical-align: top;\n",
       "    }\n",
       "\n",
       "    .dataframe thead th {\n",
       "        text-align: right;\n",
       "    }\n",
       "</style>\n",
       "<table border=\"1\" class=\"dataframe\">\n",
       "  <thead>\n",
       "    <tr style=\"text-align: right;\">\n",
       "      <th></th>\n",
       "      <th>date</th>\n",
       "      <th>date_block_num</th>\n",
       "      <th>shop_id</th>\n",
       "      <th>item_id</th>\n",
       "      <th>item_price</th>\n",
       "      <th>item_cnt_day</th>\n",
       "      <th>day</th>\n",
       "      <th>month</th>\n",
       "      <th>year</th>\n",
       "      <th>week</th>\n",
       "      <th>weekday</th>\n",
       "      <th>sales</th>\n",
       "      <th>item_name</th>\n",
       "      <th>item_category_id</th>\n",
       "      <th>first_sale_date</th>\n",
       "      <th>shop_name</th>\n",
       "      <th>city</th>\n",
       "      <th>item_category_name</th>\n",
       "      <th>major</th>\n",
       "    </tr>\n",
       "  </thead>\n",
       "  <tbody>\n",
       "    <tr>\n",
       "      <th>0</th>\n",
       "      <td>2013-01-02</td>\n",
       "      <td>0</td>\n",
       "      <td>59</td>\n",
       "      <td>22154</td>\n",
       "      <td>999.0</td>\n",
       "      <td>1.0</td>\n",
       "      <td>2</td>\n",
       "      <td>1</td>\n",
       "      <td>2013</td>\n",
       "      <td>1</td>\n",
       "      <td>2</td>\n",
       "      <td>999.0</td>\n",
       "      <td>ЯВЛЕНИЕ 2012 (BD)</td>\n",
       "      <td>37</td>\n",
       "      <td>0.0</td>\n",
       "      <td>Ярославль ТЦ \"Альтаир\"</td>\n",
       "      <td>Ярославль</td>\n",
       "      <td>Кино - Blu-Ray</td>\n",
       "      <td>Кино</td>\n",
       "    </tr>\n",
       "    <tr>\n",
       "      <th>1</th>\n",
       "      <td>2013-04-26</td>\n",
       "      <td>3</td>\n",
       "      <td>59</td>\n",
       "      <td>944</td>\n",
       "      <td>150.0</td>\n",
       "      <td>1.0</td>\n",
       "      <td>26</td>\n",
       "      <td>4</td>\n",
       "      <td>2013</td>\n",
       "      <td>17</td>\n",
       "      <td>4</td>\n",
       "      <td>150.0</td>\n",
       "      <td>2012 (BD)</td>\n",
       "      <td>37</td>\n",
       "      <td>0.0</td>\n",
       "      <td>Ярославль ТЦ \"Альтаир\"</td>\n",
       "      <td>Ярославль</td>\n",
       "      <td>Кино - Blu-Ray</td>\n",
       "      <td>Кино</td>\n",
       "    </tr>\n",
       "    <tr>\n",
       "      <th>2</th>\n",
       "      <td>2013-06-26</td>\n",
       "      <td>5</td>\n",
       "      <td>59</td>\n",
       "      <td>944</td>\n",
       "      <td>199.5</td>\n",
       "      <td>1.0</td>\n",
       "      <td>26</td>\n",
       "      <td>6</td>\n",
       "      <td>2013</td>\n",
       "      <td>26</td>\n",
       "      <td>2</td>\n",
       "      <td>199.5</td>\n",
       "      <td>2012 (BD)</td>\n",
       "      <td>37</td>\n",
       "      <td>0.0</td>\n",
       "      <td>Ярославль ТЦ \"Альтаир\"</td>\n",
       "      <td>Ярославль</td>\n",
       "      <td>Кино - Blu-Ray</td>\n",
       "      <td>Кино</td>\n",
       "    </tr>\n",
       "    <tr>\n",
       "      <th>3</th>\n",
       "      <td>2013-07-20</td>\n",
       "      <td>6</td>\n",
       "      <td>59</td>\n",
       "      <td>944</td>\n",
       "      <td>199.5</td>\n",
       "      <td>1.0</td>\n",
       "      <td>20</td>\n",
       "      <td>7</td>\n",
       "      <td>2013</td>\n",
       "      <td>29</td>\n",
       "      <td>5</td>\n",
       "      <td>199.5</td>\n",
       "      <td>2012 (BD)</td>\n",
       "      <td>37</td>\n",
       "      <td>0.0</td>\n",
       "      <td>Ярославль ТЦ \"Альтаир\"</td>\n",
       "      <td>Ярославль</td>\n",
       "      <td>Кино - Blu-Ray</td>\n",
       "      <td>Кино</td>\n",
       "    </tr>\n",
       "    <tr>\n",
       "      <th>4</th>\n",
       "      <td>2013-09-14</td>\n",
       "      <td>8</td>\n",
       "      <td>59</td>\n",
       "      <td>944</td>\n",
       "      <td>299.0</td>\n",
       "      <td>2.0</td>\n",
       "      <td>14</td>\n",
       "      <td>9</td>\n",
       "      <td>2013</td>\n",
       "      <td>37</td>\n",
       "      <td>5</td>\n",
       "      <td>598.0</td>\n",
       "      <td>2012 (BD)</td>\n",
       "      <td>37</td>\n",
       "      <td>0.0</td>\n",
       "      <td>Ярославль ТЦ \"Альтаир\"</td>\n",
       "      <td>Ярославль</td>\n",
       "      <td>Кино - Blu-Ray</td>\n",
       "      <td>Кино</td>\n",
       "    </tr>\n",
       "  </tbody>\n",
       "</table>\n",
       "</div>"
      ],
      "text/plain": [
       "         date  date_block_num  shop_id  item_id  item_price  item_cnt_day  \\\n",
       "0  2013-01-02               0       59    22154       999.0           1.0   \n",
       "1  2013-04-26               3       59      944       150.0           1.0   \n",
       "2  2013-06-26               5       59      944       199.5           1.0   \n",
       "3  2013-07-20               6       59      944       199.5           1.0   \n",
       "4  2013-09-14               8       59      944       299.0           2.0   \n",
       "\n",
       "   day  month  year  week  weekday  sales          item_name  \\\n",
       "0    2      1  2013     1        2  999.0  ЯВЛЕНИЕ 2012 (BD)   \n",
       "1   26      4  2013    17        4  150.0          2012 (BD)   \n",
       "2   26      6  2013    26        2  199.5          2012 (BD)   \n",
       "3   20      7  2013    29        5  199.5          2012 (BD)   \n",
       "4   14      9  2013    37        5  598.0          2012 (BD)   \n",
       "\n",
       "   item_category_id  first_sale_date               shop_name       city  \\\n",
       "0                37              0.0  Ярославль ТЦ \"Альтаир\"  Ярославль   \n",
       "1                37              0.0  Ярославль ТЦ \"Альтаир\"  Ярославль   \n",
       "2                37              0.0  Ярославль ТЦ \"Альтаир\"  Ярославль   \n",
       "3                37              0.0  Ярославль ТЦ \"Альтаир\"  Ярославль   \n",
       "4                37              0.0  Ярославль ТЦ \"Альтаир\"  Ярославль   \n",
       "\n",
       "  item_category_name major  \n",
       "0     Кино - Blu-Ray  Кино  \n",
       "1     Кино - Blu-Ray  Кино  \n",
       "2     Кино - Blu-Ray  Кино  \n",
       "3     Кино - Blu-Ray  Кино  \n",
       "4     Кино - Blu-Ray  Кино  "
      ]
     },
     "execution_count": 4,
     "metadata": {},
     "output_type": "execute_result"
    }
   ],
   "source": [
    "data.head()"
   ]
  },
  {
   "cell_type": "code",
   "execution_count": 5,
   "id": "50057335",
   "metadata": {},
   "outputs": [],
   "source": [
    "encoded_columns = pd.get_dummies(data['city'])\n",
    "data = data.join(encoded_columns).drop('city',axis=1)"
   ]
  },
  {
   "cell_type": "code",
   "execution_count": 6,
   "id": "4ce4ef90",
   "metadata": {},
   "outputs": [],
   "source": [
    "encoded_columns = pd.get_dummies(data['major'])\n",
    "data = data.join(encoded_columns).drop('major',axis=1)"
   ]
  },
  {
   "cell_type": "code",
   "execution_count": 7,
   "id": "66368e17",
   "metadata": {},
   "outputs": [
    {
     "data": {
      "text/html": [
       "<div>\n",
       "<style scoped>\n",
       "    .dataframe tbody tr th:only-of-type {\n",
       "        vertical-align: middle;\n",
       "    }\n",
       "\n",
       "    .dataframe tbody tr th {\n",
       "        vertical-align: top;\n",
       "    }\n",
       "\n",
       "    .dataframe thead th {\n",
       "        text-align: right;\n",
       "    }\n",
       "</style>\n",
       "<table border=\"1\" class=\"dataframe\">\n",
       "  <thead>\n",
       "    <tr style=\"text-align: right;\">\n",
       "      <th></th>\n",
       "      <th>date</th>\n",
       "      <th>date_block_num</th>\n",
       "      <th>shop_id</th>\n",
       "      <th>item_id</th>\n",
       "      <th>item_price</th>\n",
       "      <th>item_cnt_day</th>\n",
       "      <th>day</th>\n",
       "      <th>month</th>\n",
       "      <th>year</th>\n",
       "      <th>week</th>\n",
       "      <th>...</th>\n",
       "      <th>other</th>\n",
       "      <th>Аксессуары</th>\n",
       "      <th>Игровые</th>\n",
       "      <th>Игры</th>\n",
       "      <th>Карты</th>\n",
       "      <th>Кино</th>\n",
       "      <th>Книги</th>\n",
       "      <th>Музыка</th>\n",
       "      <th>Подарки</th>\n",
       "      <th>Программы</th>\n",
       "    </tr>\n",
       "  </thead>\n",
       "  <tbody>\n",
       "    <tr>\n",
       "      <th>0</th>\n",
       "      <td>2013-01-02</td>\n",
       "      <td>0</td>\n",
       "      <td>59</td>\n",
       "      <td>22154</td>\n",
       "      <td>999.0</td>\n",
       "      <td>1.0</td>\n",
       "      <td>2</td>\n",
       "      <td>1</td>\n",
       "      <td>2013</td>\n",
       "      <td>1</td>\n",
       "      <td>...</td>\n",
       "      <td>0</td>\n",
       "      <td>0</td>\n",
       "      <td>0</td>\n",
       "      <td>0</td>\n",
       "      <td>0</td>\n",
       "      <td>1</td>\n",
       "      <td>0</td>\n",
       "      <td>0</td>\n",
       "      <td>0</td>\n",
       "      <td>0</td>\n",
       "    </tr>\n",
       "    <tr>\n",
       "      <th>1</th>\n",
       "      <td>2013-04-26</td>\n",
       "      <td>3</td>\n",
       "      <td>59</td>\n",
       "      <td>944</td>\n",
       "      <td>150.0</td>\n",
       "      <td>1.0</td>\n",
       "      <td>26</td>\n",
       "      <td>4</td>\n",
       "      <td>2013</td>\n",
       "      <td>17</td>\n",
       "      <td>...</td>\n",
       "      <td>0</td>\n",
       "      <td>0</td>\n",
       "      <td>0</td>\n",
       "      <td>0</td>\n",
       "      <td>0</td>\n",
       "      <td>1</td>\n",
       "      <td>0</td>\n",
       "      <td>0</td>\n",
       "      <td>0</td>\n",
       "      <td>0</td>\n",
       "    </tr>\n",
       "    <tr>\n",
       "      <th>2</th>\n",
       "      <td>2013-06-26</td>\n",
       "      <td>5</td>\n",
       "      <td>59</td>\n",
       "      <td>944</td>\n",
       "      <td>199.5</td>\n",
       "      <td>1.0</td>\n",
       "      <td>26</td>\n",
       "      <td>6</td>\n",
       "      <td>2013</td>\n",
       "      <td>26</td>\n",
       "      <td>...</td>\n",
       "      <td>0</td>\n",
       "      <td>0</td>\n",
       "      <td>0</td>\n",
       "      <td>0</td>\n",
       "      <td>0</td>\n",
       "      <td>1</td>\n",
       "      <td>0</td>\n",
       "      <td>0</td>\n",
       "      <td>0</td>\n",
       "      <td>0</td>\n",
       "    </tr>\n",
       "    <tr>\n",
       "      <th>3</th>\n",
       "      <td>2013-07-20</td>\n",
       "      <td>6</td>\n",
       "      <td>59</td>\n",
       "      <td>944</td>\n",
       "      <td>199.5</td>\n",
       "      <td>1.0</td>\n",
       "      <td>20</td>\n",
       "      <td>7</td>\n",
       "      <td>2013</td>\n",
       "      <td>29</td>\n",
       "      <td>...</td>\n",
       "      <td>0</td>\n",
       "      <td>0</td>\n",
       "      <td>0</td>\n",
       "      <td>0</td>\n",
       "      <td>0</td>\n",
       "      <td>1</td>\n",
       "      <td>0</td>\n",
       "      <td>0</td>\n",
       "      <td>0</td>\n",
       "      <td>0</td>\n",
       "    </tr>\n",
       "    <tr>\n",
       "      <th>4</th>\n",
       "      <td>2013-09-14</td>\n",
       "      <td>8</td>\n",
       "      <td>59</td>\n",
       "      <td>944</td>\n",
       "      <td>299.0</td>\n",
       "      <td>2.0</td>\n",
       "      <td>14</td>\n",
       "      <td>9</td>\n",
       "      <td>2013</td>\n",
       "      <td>37</td>\n",
       "      <td>...</td>\n",
       "      <td>0</td>\n",
       "      <td>0</td>\n",
       "      <td>0</td>\n",
       "      <td>0</td>\n",
       "      <td>0</td>\n",
       "      <td>1</td>\n",
       "      <td>0</td>\n",
       "      <td>0</td>\n",
       "      <td>0</td>\n",
       "      <td>0</td>\n",
       "    </tr>\n",
       "  </tbody>\n",
       "</table>\n",
       "<p>5 rows × 55 columns</p>\n",
       "</div>"
      ],
      "text/plain": [
       "         date  date_block_num  shop_id  item_id  item_price  item_cnt_day  \\\n",
       "0  2013-01-02               0       59    22154       999.0           1.0   \n",
       "1  2013-04-26               3       59      944       150.0           1.0   \n",
       "2  2013-06-26               5       59      944       199.5           1.0   \n",
       "3  2013-07-20               6       59      944       199.5           1.0   \n",
       "4  2013-09-14               8       59      944       299.0           2.0   \n",
       "\n",
       "   day  month  year  week  ...  other  Аксессуары Игровые  Игры  Карты Кино  \\\n",
       "0    2      1  2013     1  ...      0           0       0     0      0    1   \n",
       "1   26      4  2013    17  ...      0           0       0     0      0    1   \n",
       "2   26      6  2013    26  ...      0           0       0     0      0    1   \n",
       "3   20      7  2013    29  ...      0           0       0     0      0    1   \n",
       "4   14      9  2013    37  ...      0           0       0     0      0    1   \n",
       "\n",
       "  Книги  Музыка  Подарки  Программы  \n",
       "0     0       0        0          0  \n",
       "1     0       0        0          0  \n",
       "2     0       0        0          0  \n",
       "3     0       0        0          0  \n",
       "4     0       0        0          0  \n",
       "\n",
       "[5 rows x 55 columns]"
      ]
     },
     "execution_count": 7,
     "metadata": {},
     "output_type": "execute_result"
    }
   ],
   "source": [
    "data.head()"
   ]
  },
  {
   "cell_type": "code",
   "execution_count": 8,
   "id": "152c134a",
   "metadata": {},
   "outputs": [
    {
     "name": "stdout",
     "output_type": "stream",
     "text": [
      "<class 'pandas.core.frame.DataFrame'>\n",
      "RangeIndex: 2433534 entries, 0 to 2433533\n",
      "Data columns (total 55 columns):\n",
      " #   Column              Dtype  \n",
      "---  ------              -----  \n",
      " 0   date                object \n",
      " 1   date_block_num      int64  \n",
      " 2   shop_id             int64  \n",
      " 3   item_id             int64  \n",
      " 4   item_price          float64\n",
      " 5   item_cnt_day        float64\n",
      " 6   day                 int64  \n",
      " 7   month               int64  \n",
      " 8   year                int64  \n",
      " 9   week                int64  \n",
      " 10  weekday             int64  \n",
      " 11  sales               float64\n",
      " 12  item_name           object \n",
      " 13  item_category_id    int64  \n",
      " 14  first_sale_date     float64\n",
      " 15  shop_name           object \n",
      " 16  item_category_name  object \n",
      " 17  Адыгея              uint8  \n",
      " 18  Балашиха            uint8  \n",
      " 19  Волжский            uint8  \n",
      " 20  Вологда             uint8  \n",
      " 21  Воронеж             uint8  \n",
      " 22  Жуковский           uint8  \n",
      " 23  Интернет-магазин    uint8  \n",
      " 24  Казань              uint8  \n",
      " 25  Калуга              uint8  \n",
      " 26  Коломна             uint8  \n",
      " 27  Красноярск          uint8  \n",
      " 28  Курск               uint8  \n",
      " 29  Москва              uint8  \n",
      " 30  Н.Новгород          uint8  \n",
      " 31  Новосибирск         uint8  \n",
      " 32  Омск                uint8  \n",
      " 33  РостовНаДону        uint8  \n",
      " 34  СПб                 uint8  \n",
      " 35  Самара              uint8  \n",
      " 36  Сергиев             uint8  \n",
      " 37  Сургут              uint8  \n",
      " 38  Томск               uint8  \n",
      " 39  Тюмень              uint8  \n",
      " 40  Уфа                 uint8  \n",
      " 41  Цифровой            uint8  \n",
      " 42  Чехов               uint8  \n",
      " 43  Якутск              uint8  \n",
      " 44  Ярославль           uint8  \n",
      " 45  other               uint8  \n",
      " 46  Аксессуары          uint8  \n",
      " 47  Игровые             uint8  \n",
      " 48  Игры                uint8  \n",
      " 49  Карты               uint8  \n",
      " 50  Кино                uint8  \n",
      " 51  Книги               uint8  \n",
      " 52  Музыка              uint8  \n",
      " 53  Подарки             uint8  \n",
      " 54  Программы           uint8  \n",
      "dtypes: float64(4), int64(9), object(4), uint8(38)\n",
      "memory usage: 403.8+ MB\n"
     ]
    }
   ],
   "source": [
    "data.info()"
   ]
  },
  {
   "cell_type": "code",
   "execution_count": 9,
   "id": "a67ff548",
   "metadata": {},
   "outputs": [],
   "source": [
    "data['date']=pd.to_datetime(data['date'])"
   ]
  },
  {
   "cell_type": "code",
   "execution_count": 10,
   "id": "71ddf6e7",
   "metadata": {},
   "outputs": [
    {
     "data": {
      "text/plain": [
       "Index(['date', 'date_block_num', 'shop_id', 'item_id', 'item_price',\n",
       "       'item_cnt_day', 'day', 'month', 'year', 'week', 'weekday', 'sales',\n",
       "       'item_name', 'item_category_id', 'first_sale_date', 'shop_name',\n",
       "       'item_category_name', 'Адыгея', 'Балашиха', 'Волжский', 'Вологда',\n",
       "       'Воронеж', 'Жуковский', 'Интернет-магазин', 'Казань', 'Калуга',\n",
       "       'Коломна', 'Красноярск', 'Курск', 'Москва', 'Н.Новгород', 'Новосибирск',\n",
       "       'Омск', 'РостовНаДону', 'СПб', 'Самара', 'Сергиев', 'Сургут', 'Томск',\n",
       "       'Тюмень', 'Уфа', 'Цифровой', 'Чехов', 'Якутск', 'Ярославль', 'other',\n",
       "       'Аксессуары', 'Игровые', 'Игры', 'Карты', 'Кино', 'Книги', 'Музыка',\n",
       "       'Подарки', 'Программы'],\n",
       "      dtype='object')"
      ]
     },
     "execution_count": 10,
     "metadata": {},
     "output_type": "execute_result"
    }
   ],
   "source": [
    "data.columns"
   ]
  },
  {
   "cell_type": "code",
   "execution_count": 11,
   "id": "8c8f4185",
   "metadata": {},
   "outputs": [],
   "source": [
    "#Dropping columns that are not in use\n",
    "data=data.drop('item_name',axis=1)\n",
    "data=data.drop('item_category_name',axis=1)\n",
    "data=data.drop('shop_name',axis=1)"
   ]
  },
  {
   "cell_type": "code",
   "execution_count": 12,
   "id": "fe268a22",
   "metadata": {},
   "outputs": [],
   "source": [
    "data=data.drop('date',axis=1)"
   ]
  },
  {
   "cell_type": "code",
   "execution_count": 13,
   "id": "e967092b",
   "metadata": {},
   "outputs": [
    {
     "data": {
      "text/plain": [
       "Index(['date_block_num', 'shop_id', 'item_id', 'item_price', 'item_cnt_day',\n",
       "       'day', 'month', 'year', 'week', 'weekday', 'sales', 'item_category_id',\n",
       "       'first_sale_date', 'Адыгея', 'Балашиха', 'Волжский', 'Вологда',\n",
       "       'Воронеж', 'Жуковский', 'Интернет-магазин', 'Казань', 'Калуга',\n",
       "       'Коломна', 'Красноярск', 'Курск', 'Москва', 'Н.Новгород', 'Новосибирск',\n",
       "       'Омск', 'РостовНаДону', 'СПб', 'Самара', 'Сергиев', 'Сургут', 'Томск',\n",
       "       'Тюмень', 'Уфа', 'Цифровой', 'Чехов', 'Якутск', 'Ярославль', 'other',\n",
       "       'Аксессуары', 'Игровые', 'Игры', 'Карты', 'Кино', 'Книги', 'Музыка',\n",
       "       'Подарки', 'Программы'],\n",
       "      dtype='object')"
      ]
     },
     "execution_count": 13,
     "metadata": {},
     "output_type": "execute_result"
    }
   ],
   "source": [
    "data.columns"
   ]
  },
  {
   "cell_type": "code",
   "execution_count": 14,
   "id": "8a2e4c5c",
   "metadata": {},
   "outputs": [
    {
     "data": {
      "text/plain": [
       "33"
      ]
     },
     "execution_count": 14,
     "metadata": {},
     "output_type": "execute_result"
    }
   ],
   "source": [
    "data.date_block_num.max()"
   ]
  },
  {
   "cell_type": "code",
   "execution_count": 15,
   "id": "4751b2fc",
   "metadata": {},
   "outputs": [
    {
     "data": {
      "text/plain": [
       "0"
      ]
     },
     "execution_count": 15,
     "metadata": {},
     "output_type": "execute_result"
    }
   ],
   "source": [
    "data.date_block_num.min()"
   ]
  },
  {
   "cell_type": "code",
   "execution_count": 16,
   "id": "69c1d713",
   "metadata": {},
   "outputs": [],
   "source": [
    "X_train = data[data.date_block_num < 33].drop(['item_cnt_day'], axis=1)\n",
    "y_train = data[data.date_block_num < 33]['item_cnt_day']\n",
    "X_test = data[data.date_block_num == 33].drop(['item_cnt_day'], axis=1)\n",
    "y_test = data[data.date_block_num == 33]['item_cnt_day']"
   ]
  },
  {
   "cell_type": "markdown",
   "id": "a697551b",
   "metadata": {},
   "source": [
    "## Linear Regression"
   ]
  },
  {
   "cell_type": "code",
   "execution_count": 17,
   "id": "86a9dd39",
   "metadata": {},
   "outputs": [
    {
     "data": {
      "text/plain": [
       "LinearRegression()"
      ]
     },
     "execution_count": 17,
     "metadata": {},
     "output_type": "execute_result"
    }
   ],
   "source": [
    "lm = LinearRegression()\n",
    "lm"
   ]
  },
  {
   "cell_type": "code",
   "execution_count": 18,
   "id": "bfc7ca46",
   "metadata": {},
   "outputs": [],
   "source": [
    "lm.fit(X_train, y_train)\n",
    "y_pred_linear = lm.predict(X_test)"
   ]
  },
  {
   "cell_type": "code",
   "execution_count": 19,
   "id": "7f28470b",
   "metadata": {},
   "outputs": [
    {
     "name": "stdout",
     "output_type": "stream",
     "text": [
      "0.08435393162653426\n"
     ]
    }
   ],
   "source": [
    "score_lm = lm.score(X_test, y_test)\n",
    "print(score_lm)"
   ]
  },
  {
   "cell_type": "code",
   "execution_count": 20,
   "id": "3896151e",
   "metadata": {},
   "outputs": [
    {
     "name": "stdout",
     "output_type": "stream",
     "text": [
      "Mean Absolute Error: 0.36368971054301824\n",
      "Mean Squared Error: 6.121960776663623\n",
      "Root Mean Squared Error: 2.4742596421280494\n",
      "R^2: 0.08435393162653426\n"
     ]
    }
   ],
   "source": [
    "from sklearn import metrics\n",
    "\n",
    "print('Mean Absolute Error:', metrics.mean_absolute_error(y_test, y_pred_linear))\n",
    "print('Mean Squared Error:', metrics.mean_squared_error(y_test, y_pred_linear))\n",
    "print('Root Mean Squared Error:', np.sqrt(metrics.mean_squared_error(y_test, y_pred_linear)))\n",
    "print('R^2:', metrics.r2_score(y_test, y_pred_linear))"
   ]
  },
  {
   "cell_type": "code",
   "execution_count": 21,
   "id": "a0da893f",
   "metadata": {},
   "outputs": [
    {
     "data": {
      "text/plain": [
       "Text(0, 0.5, 'Predicted values')"
      ]
     },
     "execution_count": 21,
     "metadata": {},
     "output_type": "execute_result"
    },
    {
     "data": {
      "image/png": "[encoded data removed]",
      "text/plain": [
       "<Figure size 576x360 with 1 Axes>"
      ]
     },
     "metadata": {
      "needs_background": "light"
     },
     "output_type": "display_data"
    }
   ],
   "source": [
    "# Plot the predictions against the actual result\n",
    "plt.figure(figsize=(8,5))\n",
    "plt.scatter(y_test, y_pred_linear, color='royalblue', edgecolor='k')\n",
    "\n",
    "# Add a line for perfect correlation\n",
    "plt.plot([x for x in range(0, 2)],[x for x in range(0, 2)], color='gold')\n",
    "\n",
    "# Label \n",
    "plt.title('Predictions vs. Actual Values Linear Regression', fontsize=15)\n",
    "plt.xlabel('Actual values', fontsize=15)\n",
    "plt.ylabel('Predicted values', fontsize=15)"
   ]
  },
  {
   "cell_type": "markdown",
   "id": "5c911a79",
   "metadata": {},
   "source": [
    "# Linear Regression with Statsmodel"
   ]
  },
  {
   "cell_type": "code",
   "execution_count": 22,
   "id": "b02ff354",
   "metadata": {},
   "outputs": [
    {
     "name": "stderr",
     "output_type": "stream",
     "text": [
      "c:\\users\\ssachwa1\\appdata\\local\\programs\\python\\python39\\lib\\site-packages\\statsmodels\\tsa\\tsatools.py:142: FutureWarning: In a future version of pandas all arguments of concat except for the argument 'objs' will be keyword-only\n",
      "  x = pd.concat(x[::order], 1)\n"
     ]
    }
   ],
   "source": [
    "# Create constants for X train and test\n",
    "X_train = sm.add_constant(X_train)\n",
    "X_test = sm.add_constant(X_test)"
   ]
  },
  {
   "cell_type": "code",
   "execution_count": 23,
   "id": "41cf64f6",
   "metadata": {},
   "outputs": [],
   "source": [
    "# Create the model\n",
    "rModel2 = sm.OLS(y_train, X_train)\n",
    "\n",
    "# Fit the model\n",
    "rModel2_results = rModel2.fit()"
   ]
  },
  {
   "cell_type": "code",
   "execution_count": 24,
   "id": "9541fcdf",
   "metadata": {},
   "outputs": [
    {
     "data": {
      "text/html": [
       "<table class=\"simpletable\">\n",
       "<caption>OLS Regression Results</caption>\n",
       "<tr>\n",
       "  <th>Dep. Variable:</th>      <td>item_cnt_day</td>   <th>  R-squared:         </th>  <td>   0.304</td>  \n",
       "</tr>\n",
       "<tr>\n",
       "  <th>Model:</th>                   <td>OLS</td>       <th>  Adj. R-squared:    </th>  <td>   0.304</td>  \n",
       "</tr>\n",
       "<tr>\n",
       "  <th>Method:</th>             <td>Least Squares</td>  <th>  F-statistic:       </th>  <td>2.214e+04</td> \n",
       "</tr>\n",
       "<tr>\n",
       "  <th>Date:</th>             <td>Wed, 25 Aug 2021</td> <th>  Prob (F-statistic):</th>   <td>  0.00</td>   \n",
       "</tr>\n",
       "<tr>\n",
       "  <th>Time:</th>                 <td>18:40:00</td>     <th>  Log-Likelihood:    </th> <td>-4.8714e+06</td>\n",
       "</tr>\n",
       "<tr>\n",
       "  <th>No. Observations:</th>      <td>2381713</td>     <th>  AIC:               </th>  <td>9.743e+06</td> \n",
       "</tr>\n",
       "<tr>\n",
       "  <th>Df Residuals:</th>          <td>2381665</td>     <th>  BIC:               </th>  <td>9.744e+06</td> \n",
       "</tr>\n",
       "<tr>\n",
       "  <th>Df Model:</th>              <td>    47</td>      <th>                     </th>      <td> </td>     \n",
       "</tr>\n",
       "<tr>\n",
       "  <th>Covariance Type:</th>      <td>nonrobust</td>    <th>                     </th>      <td> </td>     \n",
       "</tr>\n",
       "</table>\n",
       "<table class=\"simpletable\">\n",
       "<tr>\n",
       "          <td></td>            <th>coef</th>     <th>std err</th>      <th>t</th>      <th>P>|t|</th>  <th>[0.025</th>    <th>0.975]</th>  \n",
       "</tr>\n",
       "<tr>\n",
       "  <th>const</th>            <td>  9.54e-07</td> <td> 3.87e-08</td> <td>   24.642</td> <td> 0.000</td> <td> 8.78e-07</td> <td> 1.03e-06</td>\n",
       "</tr>\n",
       "<tr>\n",
       "  <th>date_block_num</th>   <td>   -0.0037</td> <td>    0.000</td> <td>  -20.925</td> <td> 0.000</td> <td>   -0.004</td> <td>   -0.003</td>\n",
       "</tr>\n",
       "<tr>\n",
       "  <th>shop_id</th>          <td>    0.0081</td> <td>    0.001</td> <td>   12.572</td> <td> 0.000</td> <td>    0.007</td> <td>    0.009</td>\n",
       "</tr>\n",
       "<tr>\n",
       "  <th>item_id</th>          <td> 1.084e-05</td> <td> 2.62e-07</td> <td>   41.433</td> <td> 0.000</td> <td> 1.03e-05</td> <td> 1.14e-05</td>\n",
       "</tr>\n",
       "<tr>\n",
       "  <th>item_price</th>       <td>   -0.0003</td> <td> 1.35e-06</td> <td> -254.809</td> <td> 0.000</td> <td>   -0.000</td> <td>   -0.000</td>\n",
       "</tr>\n",
       "<tr>\n",
       "  <th>day</th>              <td>    0.0004</td> <td>    0.000</td> <td>    2.874</td> <td> 0.004</td> <td>    0.000</td> <td>    0.001</td>\n",
       "</tr>\n",
       "<tr>\n",
       "  <th>month</th>            <td>    0.0101</td> <td>    0.001</td> <td>   11.247</td> <td> 0.000</td> <td>    0.008</td> <td>    0.012</td>\n",
       "</tr>\n",
       "<tr>\n",
       "  <th>year</th>             <td>    0.0008</td> <td> 1.25e-05</td> <td>   61.474</td> <td> 0.000</td> <td>    0.001</td> <td>    0.001</td>\n",
       "</tr>\n",
       "<tr>\n",
       "  <th>week</th>             <td>   -0.0009</td> <td>    0.000</td> <td>   -4.350</td> <td> 0.000</td> <td>   -0.001</td> <td>   -0.000</td>\n",
       "</tr>\n",
       "<tr>\n",
       "  <th>weekday</th>          <td>    0.0014</td> <td>    0.001</td> <td>    2.217</td> <td> 0.027</td> <td>    0.000</td> <td>    0.003</td>\n",
       "</tr>\n",
       "<tr>\n",
       "  <th>sales</th>            <td>    0.0002</td> <td> 2.27e-07</td> <td>  992.953</td> <td> 0.000</td> <td>    0.000</td> <td>    0.000</td>\n",
       "</tr>\n",
       "<tr>\n",
       "  <th>item_category_id</th> <td>   -0.0112</td> <td>    0.000</td> <td>  -36.359</td> <td> 0.000</td> <td>   -0.012</td> <td>   -0.011</td>\n",
       "</tr>\n",
       "<tr>\n",
       "  <th>first_sale_date</th>  <td>    0.0051</td> <td>    0.000</td> <td>   26.578</td> <td> 0.000</td> <td>    0.005</td> <td>    0.005</td>\n",
       "</tr>\n",
       "<tr>\n",
       "  <th>Адыгея</th>           <td>    0.1581</td> <td>    0.022</td> <td>    7.247</td> <td> 0.000</td> <td>    0.115</td> <td>    0.201</td>\n",
       "</tr>\n",
       "<tr>\n",
       "  <th>Балашиха</th>         <td>    0.1393</td> <td>    0.021</td> <td>    6.534</td> <td> 0.000</td> <td>    0.098</td> <td>    0.181</td>\n",
       "</tr>\n",
       "<tr>\n",
       "  <th>Волжский</th>         <td>    0.1639</td> <td>    0.020</td> <td>    8.318</td> <td> 0.000</td> <td>    0.125</td> <td>    0.203</td>\n",
       "</tr>\n",
       "<tr>\n",
       "  <th>Вологда</th>          <td>    0.1259</td> <td>    0.019</td> <td>    6.569</td> <td> 0.000</td> <td>    0.088</td> <td>    0.163</td>\n",
       "</tr>\n",
       "<tr>\n",
       "  <th>Воронеж</th>          <td>    0.1746</td> <td>    0.017</td> <td>   10.551</td> <td> 0.000</td> <td>    0.142</td> <td>    0.207</td>\n",
       "</tr>\n",
       "<tr>\n",
       "  <th>Жуковский</th>        <td>    0.1045</td> <td>    0.018</td> <td>    5.726</td> <td> 0.000</td> <td>    0.069</td> <td>    0.140</td>\n",
       "</tr>\n",
       "<tr>\n",
       "  <th>Интернет-магазин</th> <td>    0.5329</td> <td>    0.016</td> <td>   33.855</td> <td> 0.000</td> <td>    0.502</td> <td>    0.564</td>\n",
       "</tr>\n",
       "<tr>\n",
       "  <th>Казань</th>           <td>    0.1611</td> <td>    0.014</td> <td>   11.127</td> <td> 0.000</td> <td>    0.133</td> <td>    0.190</td>\n",
       "</tr>\n",
       "<tr>\n",
       "  <th>Калуга</th>           <td>    0.1331</td> <td>    0.013</td> <td>   10.465</td> <td> 0.000</td> <td>    0.108</td> <td>    0.158</td>\n",
       "</tr>\n",
       "<tr>\n",
       "  <th>Коломна</th>          <td>    0.0656</td> <td>    0.012</td> <td>    5.250</td> <td> 0.000</td> <td>    0.041</td> <td>    0.090</td>\n",
       "</tr>\n",
       "<tr>\n",
       "  <th>Красноярск</th>       <td>    0.0970</td> <td>    0.012</td> <td>    8.419</td> <td> 0.000</td> <td>    0.074</td> <td>    0.120</td>\n",
       "</tr>\n",
       "<tr>\n",
       "  <th>Курск</th>            <td>    0.0494</td> <td>    0.011</td> <td>    4.664</td> <td> 0.000</td> <td>    0.029</td> <td>    0.070</td>\n",
       "</tr>\n",
       "<tr>\n",
       "  <th>Москва</th>           <td>    0.1040</td> <td>    0.004</td> <td>   28.736</td> <td> 0.000</td> <td>    0.097</td> <td>    0.111</td>\n",
       "</tr>\n",
       "<tr>\n",
       "  <th>Н.Новгород</th>       <td>   -0.0648</td> <td>    0.008</td> <td>   -8.226</td> <td> 0.000</td> <td>   -0.080</td> <td>   -0.049</td>\n",
       "</tr>\n",
       "<tr>\n",
       "  <th>Новосибирск</th>      <td>   -0.0712</td> <td>    0.010</td> <td>   -7.014</td> <td> 0.000</td> <td>   -0.091</td> <td>   -0.051</td>\n",
       "</tr>\n",
       "<tr>\n",
       "  <th>Омск</th>             <td>   -0.1228</td> <td>    0.010</td> <td>  -12.433</td> <td> 0.000</td> <td>   -0.142</td> <td>   -0.103</td>\n",
       "</tr>\n",
       "<tr>\n",
       "  <th>РостовНаДону</th>     <td>   -0.1125</td> <td>    0.010</td> <td>  -11.348</td> <td> 0.000</td> <td>   -0.132</td> <td>   -0.093</td>\n",
       "</tr>\n",
       "<tr>\n",
       "  <th>СПб</th>              <td>   -0.0203</td> <td>    0.009</td> <td>   -2.172</td> <td> 0.030</td> <td>   -0.039</td> <td>   -0.002</td>\n",
       "</tr>\n",
       "<tr>\n",
       "  <th>Самара</th>           <td>   -0.1721</td> <td>    0.011</td> <td>  -15.308</td> <td> 0.000</td> <td>   -0.194</td> <td>   -0.150</td>\n",
       "</tr>\n",
       "<tr>\n",
       "  <th>Сергиев</th>          <td>   -0.1415</td> <td>    0.012</td> <td>  -11.518</td> <td> 0.000</td> <td>   -0.166</td> <td>   -0.117</td>\n",
       "</tr>\n",
       "<tr>\n",
       "  <th>Сургут</th>           <td>   -0.1694</td> <td>    0.013</td> <td>  -12.857</td> <td> 0.000</td> <td>   -0.195</td> <td>   -0.144</td>\n",
       "</tr>\n",
       "<tr>\n",
       "  <th>Томск</th>            <td>   -0.2102</td> <td>    0.017</td> <td>  -12.396</td> <td> 0.000</td> <td>   -0.243</td> <td>   -0.177</td>\n",
       "</tr>\n",
       "<tr>\n",
       "  <th>Тюмень</th>           <td>   -0.2082</td> <td>    0.014</td> <td>  -14.836</td> <td> 0.000</td> <td>   -0.236</td> <td>   -0.181</td>\n",
       "</tr>\n",
       "<tr>\n",
       "  <th>Уфа</th>              <td>   -0.2329</td> <td>    0.015</td> <td>  -15.106</td> <td> 0.000</td> <td>   -0.263</td> <td>   -0.203</td>\n",
       "</tr>\n",
       "<tr>\n",
       "  <th>Цифровой</th>         <td>    0.2729</td> <td>    0.019</td> <td>   14.374</td> <td> 0.000</td> <td>    0.236</td> <td>    0.310</td>\n",
       "</tr>\n",
       "<tr>\n",
       "  <th>Чехов</th>            <td>   -0.2460</td> <td>    0.018</td> <td>  -13.777</td> <td> 0.000</td> <td>   -0.281</td> <td>   -0.211</td>\n",
       "</tr>\n",
       "<tr>\n",
       "  <th>Якутск</th>           <td>   -0.2226</td> <td>    0.018</td> <td>  -12.489</td> <td> 0.000</td> <td>   -0.258</td> <td>   -0.188</td>\n",
       "</tr>\n",
       "<tr>\n",
       "  <th>Ярославль</th>        <td>   -0.2879</td> <td>    0.020</td> <td>  -14.085</td> <td> 0.000</td> <td>   -0.328</td> <td>   -0.248</td>\n",
       "</tr>\n",
       "<tr>\n",
       "  <th>other</th>            <td>    1.4194</td> <td>    0.014</td> <td>  100.926</td> <td> 0.000</td> <td>    1.392</td> <td>    1.447</td>\n",
       "</tr>\n",
       "<tr>\n",
       "  <th>Аксессуары</th>       <td>   -0.5642</td> <td>    0.014</td> <td>  -40.130</td> <td> 0.000</td> <td>   -0.592</td> <td>   -0.537</td>\n",
       "</tr>\n",
       "<tr>\n",
       "  <th>Игровые</th>          <td>   -0.0121</td> <td>    0.021</td> <td>   -0.574</td> <td> 0.566</td> <td>   -0.053</td> <td>    0.029</td>\n",
       "</tr>\n",
       "<tr>\n",
       "  <th>Игры</th>             <td>   -0.3001</td> <td>    0.007</td> <td>  -43.720</td> <td> 0.000</td> <td>   -0.314</td> <td>   -0.287</td>\n",
       "</tr>\n",
       "<tr>\n",
       "  <th>Карты</th>            <td>   -0.0624</td> <td>    0.010</td> <td>   -5.998</td> <td> 0.000</td> <td>   -0.083</td> <td>   -0.042</td>\n",
       "</tr>\n",
       "<tr>\n",
       "  <th>Кино</th>             <td>   -0.4364</td> <td>    0.005</td> <td>  -91.555</td> <td> 0.000</td> <td>   -0.446</td> <td>   -0.427</td>\n",
       "</tr>\n",
       "<tr>\n",
       "  <th>Книги</th>            <td>   -0.3929</td> <td>    0.008</td> <td>  -48.096</td> <td> 0.000</td> <td>   -0.409</td> <td>   -0.377</td>\n",
       "</tr>\n",
       "<tr>\n",
       "  <th>Музыка</th>           <td>   -0.2453</td> <td>    0.006</td> <td>  -42.529</td> <td> 0.000</td> <td>   -0.257</td> <td>   -0.234</td>\n",
       "</tr>\n",
       "<tr>\n",
       "  <th>Подарки</th>          <td>    0.3667</td> <td>    0.008</td> <td>   43.984</td> <td> 0.000</td> <td>    0.350</td> <td>    0.383</td>\n",
       "</tr>\n",
       "<tr>\n",
       "  <th>Программы</th>        <td>    0.2273</td> <td>    0.013</td> <td>   18.102</td> <td> 0.000</td> <td>    0.203</td> <td>    0.252</td>\n",
       "</tr>\n",
       "</table>\n",
       "<table class=\"simpletable\">\n",
       "<tr>\n",
       "  <th>Omnibus:</th>       <td>8423586.731</td> <th>  Durbin-Watson:     </th>      <td>   1.289</td>     \n",
       "</tr>\n",
       "<tr>\n",
       "  <th>Prob(Omnibus):</th>   <td> 0.000</td>    <th>  Jarque-Bera (JB):  </th> <td>27203126138603.211</td>\n",
       "</tr>\n",
       "<tr>\n",
       "  <th>Skew:</th>            <td>69.137</td>    <th>  Prob(JB):          </th>      <td>    0.00</td>     \n",
       "</tr>\n",
       "<tr>\n",
       "  <th>Kurtosis:</th>       <td>16558.991</td>  <th>  Cond. No.          </th>      <td>2.48e+18</td>     \n",
       "</tr>\n",
       "</table><br/><br/>Notes:<br/>[1] Standard Errors assume that the covariance matrix of the errors is correctly specified.<br/>[2] The smallest eigenvalue is 5.67e-23. This might indicate that there are<br/>strong multicollinearity problems or that the design matrix is singular."
      ],
      "text/plain": [
       "<class 'statsmodels.iolib.summary.Summary'>\n",
       "\"\"\"\n",
       "                            OLS Regression Results                            \n",
       "==============================================================================\n",
       "Dep. Variable:           item_cnt_day   R-squared:                       0.304\n",
       "Model:                            OLS   Adj. R-squared:                  0.304\n",
       "Method:                 Least Squares   F-statistic:                 2.214e+04\n",
       "Date:                Wed, 25 Aug 2021   Prob (F-statistic):               0.00\n",
       "Time:                        18:40:00   Log-Likelihood:            -4.8714e+06\n",
       "No. Observations:             2381713   AIC:                         9.743e+06\n",
       "Df Residuals:                 2381665   BIC:                         9.744e+06\n",
       "Df Model:                          47                                         \n",
       "Covariance Type:            nonrobust                                         \n",
       "====================================================================================\n",
       "                       coef    std err          t      P>|t|      [0.025      0.975]\n",
       "------------------------------------------------------------------------------------\n",
       "const              9.54e-07   3.87e-08     24.642      0.000    8.78e-07    1.03e-06\n",
       "date_block_num      -0.0037      0.000    -20.925      0.000      -0.004      -0.003\n",
       "shop_id              0.0081      0.001     12.572      0.000       0.007       0.009\n",
       "item_id           1.084e-05   2.62e-07     41.433      0.000    1.03e-05    1.14e-05\n",
       "item_price          -0.0003   1.35e-06   -254.809      0.000      -0.000      -0.000\n",
       "day                  0.0004      0.000      2.874      0.004       0.000       0.001\n",
       "month                0.0101      0.001     11.247      0.000       0.008       0.012\n",
       "year                 0.0008   1.25e-05     61.474      0.000       0.001       0.001\n",
       "week                -0.0009      0.000     -4.350      0.000      -0.001      -0.000\n",
       "weekday              0.0014      0.001      2.217      0.027       0.000       0.003\n",
       "sales                0.0002   2.27e-07    992.953      0.000       0.000       0.000\n",
       "item_category_id    -0.0112      0.000    -36.359      0.000      -0.012      -0.011\n",
       "first_sale_date      0.0051      0.000     26.578      0.000       0.005       0.005\n",
       "Адыгея               0.1581      0.022      7.247      0.000       0.115       0.201\n",
       "Балашиха             0.1393      0.021      6.534      0.000       0.098       0.181\n",
       "Волжский             0.1639      0.020      8.318      0.000       0.125       0.203\n",
       "Вологда              0.1259      0.019      6.569      0.000       0.088       0.163\n",
       "Воронеж              0.1746      0.017     10.551      0.000       0.142       0.207\n",
       "Жуковский            0.1045      0.018      5.726      0.000       0.069       0.140\n",
       "Интернет-магазин     0.5329      0.016     33.855      0.000       0.502       0.564\n",
       "Казань               0.1611      0.014     11.127      0.000       0.133       0.190\n",
       "Калуга               0.1331      0.013     10.465      0.000       0.108       0.158\n",
       "Коломна              0.0656      0.012      5.250      0.000       0.041       0.090\n",
       "Красноярск           0.0970      0.012      8.419      0.000       0.074       0.120\n",
       "Курск                0.0494      0.011      4.664      0.000       0.029       0.070\n",
       "Москва               0.1040      0.004     28.736      0.000       0.097       0.111\n",
       "Н.Новгород          -0.0648      0.008     -8.226      0.000      -0.080      -0.049\n",
       "Новосибирск         -0.0712      0.010     -7.014      0.000      -0.091      -0.051\n",
       "Омск                -0.1228      0.010    -12.433      0.000      -0.142      -0.103\n",
       "РостовНаДону        -0.1125      0.010    -11.348      0.000      -0.132      -0.093\n",
       "СПб                 -0.0203      0.009     -2.172      0.030      -0.039      -0.002\n",
       "Самара              -0.1721      0.011    -15.308      0.000      -0.194      -0.150\n",
       "Сергиев             -0.1415      0.012    -11.518      0.000      -0.166      -0.117\n",
       "Сургут              -0.1694      0.013    -12.857      0.000      -0.195      -0.144\n",
       "Томск               -0.2102      0.017    -12.396      0.000      -0.243      -0.177\n",
       "Тюмень              -0.2082      0.014    -14.836      0.000      -0.236      -0.181\n",
       "Уфа                 -0.2329      0.015    -15.106      0.000      -0.263      -0.203\n",
       "Цифровой             0.2729      0.019     14.374      0.000       0.236       0.310\n",
       "Чехов               -0.2460      0.018    -13.777      0.000      -0.281      -0.211\n",
       "Якутск              -0.2226      0.018    -12.489      0.000      -0.258      -0.188\n",
       "Ярославль           -0.2879      0.020    -14.085      0.000      -0.328      -0.248\n",
       "other                1.4194      0.014    100.926      0.000       1.392       1.447\n",
       "Аксессуары          -0.5642      0.014    -40.130      0.000      -0.592      -0.537\n",
       "Игровые             -0.0121      0.021     -0.574      0.566      -0.053       0.029\n",
       "Игры                -0.3001      0.007    -43.720      0.000      -0.314      -0.287\n",
       "Карты               -0.0624      0.010     -5.998      0.000      -0.083      -0.042\n",
       "Кино                -0.4364      0.005    -91.555      0.000      -0.446      -0.427\n",
       "Книги               -0.3929      0.008    -48.096      0.000      -0.409      -0.377\n",
       "Музыка              -0.2453      0.006    -42.529      0.000      -0.257      -0.234\n",
       "Подарки              0.3667      0.008     43.984      0.000       0.350       0.383\n",
       "Программы            0.2273      0.013     18.102      0.000       0.203       0.252\n",
       "==============================================================================\n",
       "Omnibus:                  8423586.731   Durbin-Watson:                   1.289\n",
       "Prob(Omnibus):                  0.000   Jarque-Bera (JB):   27203126138603.211\n",
       "Skew:                          69.137   Prob(JB):                         0.00\n",
       "Kurtosis:                   16558.991   Cond. No.                     2.48e+18\n",
       "==============================================================================\n",
       "\n",
       "Notes:\n",
       "[1] Standard Errors assume that the covariance matrix of the errors is correctly specified.\n",
       "[2] The smallest eigenvalue is 5.67e-23. This might indicate that there are\n",
       "strong multicollinearity problems or that the design matrix is singular.\n",
       "\"\"\""
      ]
     },
     "execution_count": 24,
     "metadata": {},
     "output_type": "execute_result"
    }
   ],
   "source": [
    "rModel2_results.summary()"
   ]
  },
  {
   "cell_type": "markdown",
   "id": "b949f62c",
   "metadata": {},
   "source": [
    "# Decision Tree "
   ]
  },
  {
   "cell_type": "code",
   "execution_count": 25,
   "id": "d264208f",
   "metadata": {},
   "outputs": [],
   "source": [
    "X_train = data[data.date_block_num < 33].drop(['item_cnt_day'], axis=1)\n",
    "y_train = data[data.date_block_num < 33]['item_cnt_day']\n",
    "X_test = data[data.date_block_num == 33].drop(['item_cnt_day'], axis=1)\n",
    "y_test = data[data.date_block_num == 33]['item_cnt_day']"
   ]
  },
  {
   "cell_type": "code",
   "execution_count": 26,
   "id": "88375c17",
   "metadata": {},
   "outputs": [
    {
     "data": {
      "text/html": [
       "<div>\n",
       "<style scoped>\n",
       "    .dataframe tbody tr th:only-of-type {\n",
       "        vertical-align: middle;\n",
       "    }\n",
       "\n",
       "    .dataframe tbody tr th {\n",
       "        vertical-align: top;\n",
       "    }\n",
       "\n",
       "    .dataframe thead th {\n",
       "        text-align: right;\n",
       "    }\n",
       "</style>\n",
       "<table border=\"1\" class=\"dataframe\">\n",
       "  <thead>\n",
       "    <tr style=\"text-align: right;\">\n",
       "      <th></th>\n",
       "      <th>Actual</th>\n",
       "      <th>Predicted</th>\n",
       "    </tr>\n",
       "  </thead>\n",
       "  <tbody>\n",
       "    <tr>\n",
       "      <th>381</th>\n",
       "      <td>1.0</td>\n",
       "      <td>1.0</td>\n",
       "    </tr>\n",
       "    <tr>\n",
       "      <th>458</th>\n",
       "      <td>1.0</td>\n",
       "      <td>1.0</td>\n",
       "    </tr>\n",
       "    <tr>\n",
       "      <th>472</th>\n",
       "      <td>1.0</td>\n",
       "      <td>1.0</td>\n",
       "    </tr>\n",
       "    <tr>\n",
       "      <th>532</th>\n",
       "      <td>1.0</td>\n",
       "      <td>1.0</td>\n",
       "    </tr>\n",
       "    <tr>\n",
       "      <th>533</th>\n",
       "      <td>1.0</td>\n",
       "      <td>1.0</td>\n",
       "    </tr>\n",
       "    <tr>\n",
       "      <th>...</th>\n",
       "      <td>...</td>\n",
       "      <td>...</td>\n",
       "    </tr>\n",
       "    <tr>\n",
       "      <th>2433526</th>\n",
       "      <td>1.0</td>\n",
       "      <td>1.0</td>\n",
       "    </tr>\n",
       "    <tr>\n",
       "      <th>2433527</th>\n",
       "      <td>1.0</td>\n",
       "      <td>1.0</td>\n",
       "    </tr>\n",
       "    <tr>\n",
       "      <th>2433528</th>\n",
       "      <td>1.0</td>\n",
       "      <td>1.0</td>\n",
       "    </tr>\n",
       "    <tr>\n",
       "      <th>2433529</th>\n",
       "      <td>1.0</td>\n",
       "      <td>1.0</td>\n",
       "    </tr>\n",
       "    <tr>\n",
       "      <th>2433533</th>\n",
       "      <td>1.0</td>\n",
       "      <td>1.0</td>\n",
       "    </tr>\n",
       "  </tbody>\n",
       "</table>\n",
       "<p>51821 rows × 2 columns</p>\n",
       "</div>"
      ],
      "text/plain": [
       "         Actual  Predicted\n",
       "381         1.0        1.0\n",
       "458         1.0        1.0\n",
       "472         1.0        1.0\n",
       "532         1.0        1.0\n",
       "533         1.0        1.0\n",
       "...         ...        ...\n",
       "2433526     1.0        1.0\n",
       "2433527     1.0        1.0\n",
       "2433528     1.0        1.0\n",
       "2433529     1.0        1.0\n",
       "2433533     1.0        1.0\n",
       "\n",
       "[51821 rows x 2 columns]"
      ]
     },
     "execution_count": 26,
     "metadata": {},
     "output_type": "execute_result"
    }
   ],
   "source": [
    "regressor = DecisionTreeRegressor()\n",
    "regressor.fit(X_train, y_train)\n",
    "y_pred_decision = regressor.predict(X_test)\n",
    "decision_df=pd.DataFrame({'Actual':y_test, 'Predicted':y_pred_decision})\n",
    "decision_df"
   ]
  },
  {
   "cell_type": "code",
   "execution_count": 27,
   "id": "aa1c5da1",
   "metadata": {},
   "outputs": [
    {
     "name": "stdout",
     "output_type": "stream",
     "text": [
      "0.9916559020322433\n"
     ]
    }
   ],
   "source": [
    "score_dt = regressor.score(X_test, y_test)\n",
    "print(score_dt)"
   ]
  },
  {
   "cell_type": "code",
   "execution_count": 28,
   "id": "9570e250",
   "metadata": {},
   "outputs": [
    {
     "name": "stdout",
     "output_type": "stream",
     "text": [
      "Mean Absolute Error: 0.004805001833233631\n",
      "Mean Squared Error: 0.05578819397541537\n",
      "Root Mean Squared Error: 0.23619524545471987\n",
      "R^2: 0.9916559020322433\n"
     ]
    }
   ],
   "source": [
    "print('Mean Absolute Error:', metrics.mean_absolute_error(y_test, y_pred_decision))\n",
    "print('Mean Squared Error:', metrics.mean_squared_error(y_test, y_pred_decision))\n",
    "print('Root Mean Squared Error:', np.sqrt(metrics.mean_squared_error(y_test, y_pred_decision)))\n",
    "print('R^2:', metrics.r2_score(y_test, y_pred_decision))"
   ]
  },
  {
   "cell_type": "code",
   "execution_count": 29,
   "id": "ab944b7e",
   "metadata": {},
   "outputs": [
    {
     "data": {
      "text/plain": [
       "Text(0, 0.5, 'Predicted values')"
      ]
     },
     "execution_count": 29,
     "metadata": {},
     "output_type": "execute_result"
    },
    {
     "data": {
      "image/png": "[encoded data removed]",
      "text/plain": [
       "<Figure size 576x360 with 1 Axes>"
      ]
     },
     "metadata": {
      "needs_background": "light"
     },
     "output_type": "display_data"
    }
   ],
   "source": [
    "# Plot the predictions against the actual result\n",
    "plt.figure(figsize=(8,5))\n",
    "plt.scatter(y_test, y_pred_decision, color='royalblue', edgecolor='k')\n",
    "\n",
    "# Add a line for perfect correlation\n",
    "plt.plot([x for x in range(0, 2)],[x for x in range(0, 2)], color='gold')\n",
    "\n",
    "# Label \n",
    "plt.title(\"Predictions vs. Actual Values Decision Tree\", fontsize=15)\n",
    "plt.xlabel(\"Actual values\", fontsize=15)\n",
    "plt.ylabel(\"Predicted values\", fontsize=15)"
   ]
  },
  {
   "cell_type": "code",
   "execution_count": 30,
   "id": "0a653480",
   "metadata": {},
   "outputs": [
    {
     "data": {
      "text/html": [
       "<div>\n",
       "<style scoped>\n",
       "    .dataframe tbody tr th:only-of-type {\n",
       "        vertical-align: middle;\n",
       "    }\n",
       "\n",
       "    .dataframe tbody tr th {\n",
       "        vertical-align: top;\n",
       "    }\n",
       "\n",
       "    .dataframe thead th {\n",
       "        text-align: right;\n",
       "    }\n",
       "</style>\n",
       "<table border=\"1\" class=\"dataframe\">\n",
       "  <thead>\n",
       "    <tr style=\"text-align: right;\">\n",
       "      <th></th>\n",
       "      <th>index</th>\n",
       "      <th>Feature Names</th>\n",
       "      <th>Importance</th>\n",
       "    </tr>\n",
       "  </thead>\n",
       "  <tbody>\n",
       "    <tr>\n",
       "      <th>30</th>\n",
       "      <td>30</td>\n",
       "      <td>Самара</td>\n",
       "      <td>0.000004</td>\n",
       "    </tr>\n",
       "    <tr>\n",
       "      <th>31</th>\n",
       "      <td>23</td>\n",
       "      <td>Курск</td>\n",
       "      <td>0.000028</td>\n",
       "    </tr>\n",
       "    <tr>\n",
       "      <th>32</th>\n",
       "      <td>11</td>\n",
       "      <td>first_sale_date</td>\n",
       "      <td>0.000033</td>\n",
       "    </tr>\n",
       "    <tr>\n",
       "      <th>33</th>\n",
       "      <td>43</td>\n",
       "      <td>Игры</td>\n",
       "      <td>0.000052</td>\n",
       "    </tr>\n",
       "    <tr>\n",
       "      <th>34</th>\n",
       "      <td>24</td>\n",
       "      <td>Москва</td>\n",
       "      <td>0.000053</td>\n",
       "    </tr>\n",
       "    <tr>\n",
       "      <th>35</th>\n",
       "      <td>18</td>\n",
       "      <td>Интернет-магазин</td>\n",
       "      <td>0.000054</td>\n",
       "    </tr>\n",
       "    <tr>\n",
       "      <th>36</th>\n",
       "      <td>5</td>\n",
       "      <td>month</td>\n",
       "      <td>0.000059</td>\n",
       "    </tr>\n",
       "    <tr>\n",
       "      <th>37</th>\n",
       "      <td>6</td>\n",
       "      <td>year</td>\n",
       "      <td>0.000067</td>\n",
       "    </tr>\n",
       "    <tr>\n",
       "      <th>38</th>\n",
       "      <td>17</td>\n",
       "      <td>Жуковский</td>\n",
       "      <td>0.000080</td>\n",
       "    </tr>\n",
       "    <tr>\n",
       "      <th>39</th>\n",
       "      <td>40</td>\n",
       "      <td>other</td>\n",
       "      <td>0.000094</td>\n",
       "    </tr>\n",
       "    <tr>\n",
       "      <th>40</th>\n",
       "      <td>8</td>\n",
       "      <td>weekday</td>\n",
       "      <td>0.000195</td>\n",
       "    </tr>\n",
       "    <tr>\n",
       "      <th>41</th>\n",
       "      <td>0</td>\n",
       "      <td>date_block_num</td>\n",
       "      <td>0.000214</td>\n",
       "    </tr>\n",
       "    <tr>\n",
       "      <th>42</th>\n",
       "      <td>2</td>\n",
       "      <td>item_id</td>\n",
       "      <td>0.000403</td>\n",
       "    </tr>\n",
       "    <tr>\n",
       "      <th>43</th>\n",
       "      <td>1</td>\n",
       "      <td>shop_id</td>\n",
       "      <td>0.000546</td>\n",
       "    </tr>\n",
       "    <tr>\n",
       "      <th>44</th>\n",
       "      <td>7</td>\n",
       "      <td>week</td>\n",
       "      <td>0.001021</td>\n",
       "    </tr>\n",
       "    <tr>\n",
       "      <th>45</th>\n",
       "      <td>4</td>\n",
       "      <td>day</td>\n",
       "      <td>0.001036</td>\n",
       "    </tr>\n",
       "    <tr>\n",
       "      <th>46</th>\n",
       "      <td>10</td>\n",
       "      <td>item_category_id</td>\n",
       "      <td>0.001734</td>\n",
       "    </tr>\n",
       "    <tr>\n",
       "      <th>47</th>\n",
       "      <td>29</td>\n",
       "      <td>СПб</td>\n",
       "      <td>0.002455</td>\n",
       "    </tr>\n",
       "    <tr>\n",
       "      <th>48</th>\n",
       "      <td>3</td>\n",
       "      <td>item_price</td>\n",
       "      <td>0.401369</td>\n",
       "    </tr>\n",
       "    <tr>\n",
       "      <th>49</th>\n",
       "      <td>9</td>\n",
       "      <td>sales</td>\n",
       "      <td>0.590486</td>\n",
       "    </tr>\n",
       "  </tbody>\n",
       "</table>\n",
       "</div>"
      ],
      "text/plain": [
       "    index     Feature Names  Importance\n",
       "30     30            Самара    0.000004\n",
       "31     23             Курск    0.000028\n",
       "32     11   first_sale_date    0.000033\n",
       "33     43              Игры    0.000052\n",
       "34     24            Москва    0.000053\n",
       "35     18  Интернет-магазин    0.000054\n",
       "36      5             month    0.000059\n",
       "37      6              year    0.000067\n",
       "38     17         Жуковский    0.000080\n",
       "39     40             other    0.000094\n",
       "40      8           weekday    0.000195\n",
       "41      0    date_block_num    0.000214\n",
       "42      2           item_id    0.000403\n",
       "43      1           shop_id    0.000546\n",
       "44      7              week    0.001021\n",
       "45      4               day    0.001036\n",
       "46     10  item_category_id    0.001734\n",
       "47     29               СПб    0.002455\n",
       "48      3        item_price    0.401369\n",
       "49      9             sales    0.590486"
      ]
     },
     "execution_count": 30,
     "metadata": {},
     "output_type": "execute_result"
    }
   ],
   "source": [
    "# create feature importance\n",
    "tree_df = pd.DataFrame({'Feature Names': X_train.columns, 'Importance': regressor.feature_importances_})\n",
    "tree_df = tree_df.sort_values(by='Importance', ascending=True)\n",
    "tree_df.reset_index(inplace=True)\n",
    "tree_df.tail(20)"
   ]
  },
  {
   "cell_type": "code",
   "execution_count": 31,
   "id": "d46cf482",
   "metadata": {},
   "outputs": [
    {
     "data": {
      "image/png": "[encoded data removed]",
      "text/plain": [
       "<Figure size 792x504 with 1 Axes>"
      ]
     },
     "metadata": {
      "needs_background": "light"
     },
     "output_type": "display_data"
    }
   ],
   "source": [
    "# Visual comparison:\n",
    "plt.figure(figsize=(11,7))\n",
    "_= plt.barh(tree_df['Feature Names'], tree_df['Importance'], align='center', color='blue', edgecolor='k')\n",
    "plt.xlabel('Relative Importance',fontsize=15)\n",
    "plt.ylabel('Features',fontsize=15)\n",
    "plt.title('Feature Importances for Regression Tree model', fontsize=15)\n",
    "plt.show()"
   ]
  },
  {
   "cell_type": "markdown",
   "id": "bb62432f",
   "metadata": {},
   "source": [
    "## Random Forest"
   ]
  },
  {
   "cell_type": "code",
   "execution_count": 32,
   "id": "5f0718cb",
   "metadata": {},
   "outputs": [],
   "source": [
    "random = RandomForestRegressor(n_estimators=20, random_state=0)\n",
    "random.fit(X_train, y_train)\n",
    "y_pred_random = random.predict(X_test)"
   ]
  },
  {
   "cell_type": "code",
   "execution_count": 33,
   "id": "314b3635",
   "metadata": {},
   "outputs": [
    {
     "name": "stdout",
     "output_type": "stream",
     "text": [
      "0.9979528602745328\n"
     ]
    }
   ],
   "source": [
    "score_random = random.score(X_test, y_test)\n",
    "print(score_random)"
   ]
  },
  {
   "cell_type": "code",
   "execution_count": 34,
   "id": "326464f4",
   "metadata": {},
   "outputs": [
    {
     "name": "stdout",
     "output_type": "stream",
     "text": [
      "Mean Absolute Error: 0.003186931938789295\n",
      "Mean Squared Error: 0.013687067019162127\n",
      "Root Mean Squared Error: 0.11699173910649473\n",
      "R^2: 0.9979528602745328\n"
     ]
    }
   ],
   "source": [
    "# Metrics\n",
    "print('Mean Absolute Error:', metrics.mean_absolute_error(y_test, y_pred_random))\n",
    "print('Mean Squared Error:', metrics.mean_squared_error(y_test, y_pred_random))\n",
    "print('Root Mean Squared Error:', np.sqrt(metrics.mean_squared_error(y_test, y_pred_random)))\n",
    "print('R^2:', metrics.r2_score(y_test, y_pred_random))"
   ]
  },
  {
   "cell_type": "code",
   "execution_count": 35,
   "id": "ac56f2c6",
   "metadata": {},
   "outputs": [
    {
     "data": {
      "text/plain": [
       "Text(0, 0.5, 'Predicted values')"
      ]
     },
     "execution_count": 35,
     "metadata": {},
     "output_type": "execute_result"
    },
    {
     "data": {
      "image/png": "[encoded data removed]",
      "text/plain": [
       "<Figure size 576x360 with 1 Axes>"
      ]
     },
     "metadata": {
      "needs_background": "light"
     },
     "output_type": "display_data"
    }
   ],
   "source": [
    "# Plot the predictions against the actual result\n",
    "plt.figure(figsize=(8, 5))\n",
    "plt.scatter(y_test, y_pred_random, color='royalblue', edgecolor='k')\n",
    "\n",
    "# Add a line for perfect correlation\n",
    "plt.plot([x for x in range(0, 2)],[x for x in range(0, 2)], color='gold')\n",
    "\n",
    "# Label \n",
    "plt.title(\"Predictions vs. Actual Values Random Forest\", fontsize=15)\n",
    "plt.xlabel(\"Actual values\", fontsize=15)\n",
    "plt.ylabel(\"Predicted values\", fontsize=15)"
   ]
  },
  {
   "cell_type": "code",
   "execution_count": null,
   "id": "2bf7bcbe",
   "metadata": {},
   "outputs": [],
   "source": []
  }
 ],
 "metadata": {
  "kernelspec": {
   "display_name": "Python 3 (ipykernel)",
   "language": "python",
   "name": "python3"
  },
  "language_info": {
   "codemirror_mode": {
    "name": "ipython",
    "version": 3
   },
   "file_extension": ".py",
   "mimetype": "text/x-python",
   "name": "python",
   "nbconvert_exporter": "python",
   "pygments_lexer": "ipython3",
   "version": "3.9.6"
  }
 },
 "nbformat": 4,
 "nbformat_minor": 5
}
