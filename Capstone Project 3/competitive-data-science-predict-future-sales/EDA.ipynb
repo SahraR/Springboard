{
 "cells": [
  {
   "cell_type": "markdown",
   "id": "c36829ad",
   "metadata": {},
   "source": [
    "The first step is to load all the required libraries and load raw data files into memory."
   ]
  },
  {
   "cell_type": "markdown",
   "id": "47f48ea9",
   "metadata": {},
   "source": [
    "# Load Libraries"
   ]
  },
  {
   "cell_type": "code",
   "execution_count": 1,
   "id": "0a675d60",
   "metadata": {},
   "outputs": [],
   "source": [
    "import numpy as np  \n",
    "import pandas as pd   #numpy and pandas are the 2 most important libraries for Data Science.\n",
    "#will add others as we go down the road\n",
    "#basic libs for data vizualisations\n",
    "import seaborn as sns\n",
    "import matplotlib.pyplot as plt\n",
    "\n",
    "%matplotlib inline"
   ]
  },
  {
   "cell_type": "markdown",
   "id": "fce0fd15",
   "metadata": {},
   "source": [
    "# Load the raw data"
   ]
  },
  {
   "cell_type": "code",
   "execution_count": 2,
   "id": "b8217f31",
   "metadata": {},
   "outputs": [],
   "source": [
    "sales = pd.read_csv('sales_train.csv')\n",
    "shops = pd.read_csv('shops.csv')\n",
    "items = pd.read_csv('items.csv')\n",
    "item_cats = pd.read_csv('item_categories.csv')\n",
    "test = pd.read_csv('test.csv')\n",
    "sample_submission = pd.read_csv(\"sample_submission.csv\")"
   ]
  },
  {
   "cell_type": "markdown",
   "id": "2400d6df",
   "metadata": {},
   "source": [
    "# Basic EDA"
   ]
  },
  {
   "cell_type": "markdown",
   "id": "92a929c7",
   "metadata": {},
   "source": [
    "## Sales"
   ]
  },
  {
   "cell_type": "code",
   "execution_count": 3,
   "id": "a9a539e7",
   "metadata": {},
   "outputs": [
    {
     "data": {
      "text/html": [
       "<div>\n",
       "<style scoped>\n",
       "    .dataframe tbody tr th:only-of-type {\n",
       "        vertical-align: middle;\n",
       "    }\n",
       "\n",
       "    .dataframe tbody tr th {\n",
       "        vertical-align: top;\n",
       "    }\n",
       "\n",
       "    .dataframe thead th {\n",
       "        text-align: right;\n",
       "    }\n",
       "</style>\n",
       "<table border=\"1\" class=\"dataframe\">\n",
       "  <thead>\n",
       "    <tr style=\"text-align: right;\">\n",
       "      <th></th>\n",
       "      <th>date</th>\n",
       "      <th>date_block_num</th>\n",
       "      <th>shop_id</th>\n",
       "      <th>item_id</th>\n",
       "      <th>item_price</th>\n",
       "      <th>item_cnt_day</th>\n",
       "    </tr>\n",
       "  </thead>\n",
       "  <tbody>\n",
       "    <tr>\n",
       "      <th>0</th>\n",
       "      <td>02.01.2013</td>\n",
       "      <td>0</td>\n",
       "      <td>59</td>\n",
       "      <td>22154</td>\n",
       "      <td>999.00</td>\n",
       "      <td>1.0</td>\n",
       "    </tr>\n",
       "    <tr>\n",
       "      <th>1</th>\n",
       "      <td>03.01.2013</td>\n",
       "      <td>0</td>\n",
       "      <td>25</td>\n",
       "      <td>2552</td>\n",
       "      <td>899.00</td>\n",
       "      <td>1.0</td>\n",
       "    </tr>\n",
       "    <tr>\n",
       "      <th>2</th>\n",
       "      <td>05.01.2013</td>\n",
       "      <td>0</td>\n",
       "      <td>25</td>\n",
       "      <td>2552</td>\n",
       "      <td>899.00</td>\n",
       "      <td>-1.0</td>\n",
       "    </tr>\n",
       "    <tr>\n",
       "      <th>3</th>\n",
       "      <td>06.01.2013</td>\n",
       "      <td>0</td>\n",
       "      <td>25</td>\n",
       "      <td>2554</td>\n",
       "      <td>1709.05</td>\n",
       "      <td>1.0</td>\n",
       "    </tr>\n",
       "    <tr>\n",
       "      <th>4</th>\n",
       "      <td>15.01.2013</td>\n",
       "      <td>0</td>\n",
       "      <td>25</td>\n",
       "      <td>2555</td>\n",
       "      <td>1099.00</td>\n",
       "      <td>1.0</td>\n",
       "    </tr>\n",
       "  </tbody>\n",
       "</table>\n",
       "</div>"
      ],
      "text/plain": [
       "         date  date_block_num  shop_id  item_id  item_price  item_cnt_day\n",
       "0  02.01.2013               0       59    22154      999.00           1.0\n",
       "1  03.01.2013               0       25     2552      899.00           1.0\n",
       "2  05.01.2013               0       25     2552      899.00          -1.0\n",
       "3  06.01.2013               0       25     2554     1709.05           1.0\n",
       "4  15.01.2013               0       25     2555     1099.00           1.0"
      ]
     },
     "execution_count": 3,
     "metadata": {},
     "output_type": "execute_result"
    }
   ],
   "source": [
    "sales.head()"
   ]
  },
  {
   "cell_type": "code",
   "execution_count": 4,
   "id": "4e67a168",
   "metadata": {},
   "outputs": [
    {
     "name": "stdout",
     "output_type": "stream",
     "text": [
      "<class 'pandas.core.frame.DataFrame'>\n",
      "RangeIndex: 2935849 entries, 0 to 2935848\n",
      "Data columns (total 6 columns):\n",
      " #   Column          Dtype  \n",
      "---  ------          -----  \n",
      " 0   date            object \n",
      " 1   date_block_num  int64  \n",
      " 2   shop_id         int64  \n",
      " 3   item_id         int64  \n",
      " 4   item_price      float64\n",
      " 5   item_cnt_day    float64\n",
      "dtypes: float64(2), int64(3), object(1)\n",
      "memory usage: 134.4+ MB\n"
     ]
    }
   ],
   "source": [
    "sales.info()"
   ]
  },
  {
   "cell_type": "code",
   "execution_count": 5,
   "id": "d9b6a7c0",
   "metadata": {},
   "outputs": [],
   "source": [
    "sales['date'] = pd.to_datetime(sales.date,format='%d.%m.%Y')"
   ]
  },
  {
   "cell_type": "code",
   "execution_count": 6,
   "id": "07bb2ab8",
   "metadata": {},
   "outputs": [
    {
     "data": {
      "text/plain": [
       "date              0\n",
       "date_block_num    0\n",
       "shop_id           0\n",
       "item_id           0\n",
       "item_price        0\n",
       "item_cnt_day      0\n",
       "dtype: int64"
      ]
     },
     "execution_count": 6,
     "metadata": {},
     "output_type": "execute_result"
    }
   ],
   "source": [
    "sales.isnull().sum()"
   ]
  },
  {
   "cell_type": "code",
   "execution_count": 7,
   "id": "785f35a8",
   "metadata": {},
   "outputs": [
    {
     "data": {
      "text/html": [
       "<div>\n",
       "<style scoped>\n",
       "    .dataframe tbody tr th:only-of-type {\n",
       "        vertical-align: middle;\n",
       "    }\n",
       "\n",
       "    .dataframe tbody tr th {\n",
       "        vertical-align: top;\n",
       "    }\n",
       "\n",
       "    .dataframe thead th {\n",
       "        text-align: right;\n",
       "    }\n",
       "</style>\n",
       "<table border=\"1\" class=\"dataframe\">\n",
       "  <thead>\n",
       "    <tr style=\"text-align: right;\">\n",
       "      <th></th>\n",
       "      <th>date_block_num</th>\n",
       "      <th>shop_id</th>\n",
       "      <th>item_id</th>\n",
       "      <th>item_price</th>\n",
       "      <th>item_cnt_day</th>\n",
       "    </tr>\n",
       "  </thead>\n",
       "  <tbody>\n",
       "    <tr>\n",
       "      <th>count</th>\n",
       "      <td>2.935849e+06</td>\n",
       "      <td>2.935849e+06</td>\n",
       "      <td>2.935849e+06</td>\n",
       "      <td>2.935849e+06</td>\n",
       "      <td>2.935849e+06</td>\n",
       "    </tr>\n",
       "    <tr>\n",
       "      <th>mean</th>\n",
       "      <td>1.456991e+01</td>\n",
       "      <td>3.300173e+01</td>\n",
       "      <td>1.019723e+04</td>\n",
       "      <td>8.908532e+02</td>\n",
       "      <td>1.242641e+00</td>\n",
       "    </tr>\n",
       "    <tr>\n",
       "      <th>std</th>\n",
       "      <td>9.422988e+00</td>\n",
       "      <td>1.622697e+01</td>\n",
       "      <td>6.324297e+03</td>\n",
       "      <td>1.729800e+03</td>\n",
       "      <td>2.618834e+00</td>\n",
       "    </tr>\n",
       "    <tr>\n",
       "      <th>min</th>\n",
       "      <td>0.000000e+00</td>\n",
       "      <td>0.000000e+00</td>\n",
       "      <td>0.000000e+00</td>\n",
       "      <td>-1.000000e+00</td>\n",
       "      <td>-2.200000e+01</td>\n",
       "    </tr>\n",
       "    <tr>\n",
       "      <th>25%</th>\n",
       "      <td>7.000000e+00</td>\n",
       "      <td>2.200000e+01</td>\n",
       "      <td>4.476000e+03</td>\n",
       "      <td>2.490000e+02</td>\n",
       "      <td>1.000000e+00</td>\n",
       "    </tr>\n",
       "    <tr>\n",
       "      <th>50%</th>\n",
       "      <td>1.400000e+01</td>\n",
       "      <td>3.100000e+01</td>\n",
       "      <td>9.343000e+03</td>\n",
       "      <td>3.990000e+02</td>\n",
       "      <td>1.000000e+00</td>\n",
       "    </tr>\n",
       "    <tr>\n",
       "      <th>75%</th>\n",
       "      <td>2.300000e+01</td>\n",
       "      <td>4.700000e+01</td>\n",
       "      <td>1.568400e+04</td>\n",
       "      <td>9.990000e+02</td>\n",
       "      <td>1.000000e+00</td>\n",
       "    </tr>\n",
       "    <tr>\n",
       "      <th>max</th>\n",
       "      <td>3.300000e+01</td>\n",
       "      <td>5.900000e+01</td>\n",
       "      <td>2.216900e+04</td>\n",
       "      <td>3.079800e+05</td>\n",
       "      <td>2.169000e+03</td>\n",
       "    </tr>\n",
       "  </tbody>\n",
       "</table>\n",
       "</div>"
      ],
      "text/plain": [
       "       date_block_num       shop_id       item_id    item_price  item_cnt_day\n",
       "count    2.935849e+06  2.935849e+06  2.935849e+06  2.935849e+06  2.935849e+06\n",
       "mean     1.456991e+01  3.300173e+01  1.019723e+04  8.908532e+02  1.242641e+00\n",
       "std      9.422988e+00  1.622697e+01  6.324297e+03  1.729800e+03  2.618834e+00\n",
       "min      0.000000e+00  0.000000e+00  0.000000e+00 -1.000000e+00 -2.200000e+01\n",
       "25%      7.000000e+00  2.200000e+01  4.476000e+03  2.490000e+02  1.000000e+00\n",
       "50%      1.400000e+01  3.100000e+01  9.343000e+03  3.990000e+02  1.000000e+00\n",
       "75%      2.300000e+01  4.700000e+01  1.568400e+04  9.990000e+02  1.000000e+00\n",
       "max      3.300000e+01  5.900000e+01  2.216900e+04  3.079800e+05  2.169000e+03"
      ]
     },
     "execution_count": 7,
     "metadata": {},
     "output_type": "execute_result"
    }
   ],
   "source": [
    "sales.describe()"
   ]
  },
  {
   "cell_type": "code",
   "execution_count": 8,
   "id": "36a47a7b",
   "metadata": {},
   "outputs": [
    {
     "data": {
      "text/plain": [
       "[<matplotlib.lines.Line2D at 0x7fb2976c85b0>]"
      ]
     },
     "execution_count": 8,
     "metadata": {},
     "output_type": "execute_result"
    },
    {
     "data": {
      "image/png": "[encoded data removed]",
      "text/plain": [
       "<Figure size 432x288 with 1 Axes>"
      ]
     },
     "metadata": {
      "needs_background": "light"
     },
     "output_type": "display_data"
    }
   ],
   "source": [
    "plt.plot(sales['item_cnt_day'])"
   ]
  },
  {
   "cell_type": "code",
   "execution_count": 9,
   "id": "6447943b",
   "metadata": {},
   "outputs": [
    {
     "data": {
      "text/plain": [
       "[<matplotlib.lines.Line2D at 0x7fb296deb850>]"
      ]
     },
     "execution_count": 9,
     "metadata": {},
     "output_type": "execute_result"
    },
    {
     "data": {
      "image/png": "[encoded data removed]",
      "text/plain": [
       "<Figure size 432x288 with 1 Axes>"
      ]
     },
     "metadata": {
      "needs_background": "light"
     },
     "output_type": "display_data"
    }
   ],
   "source": [
    "plt.plot(sales['item_price'])"
   ]
  },
  {
   "cell_type": "markdown",
   "id": "6c877d42",
   "metadata": {},
   "source": [
    "Plot the total sale of each month, we see a clear trend and seasonality. The overall sale is decreasing with time, and there are peaks in November."
   ]
  },
  {
   "cell_type": "code",
   "execution_count": 10,
   "id": "acc06ad7",
   "metadata": {},
   "outputs": [
    {
     "data": {
      "text/plain": [
       "<AxesSubplot:xlabel='date_block_num'>"
      ]
     },
     "execution_count": 10,
     "metadata": {},
     "output_type": "execute_result"
    },
    {
     "data": {
      "image/png": "[encoded data removed]",
      "text/plain": [
       "<Figure size 432x288 with 1 Axes>"
      ]
     },
     "metadata": {
      "needs_background": "light"
     },
     "output_type": "display_data"
    }
   ],
   "source": [
    "sale_by_month = sales.groupby('date_block_num')['item_cnt_day'].sum()\n",
    "sale_by_month.plot()"
   ]
  },
  {
   "cell_type": "markdown",
   "id": "a78e7517",
   "metadata": {},
   "source": [
    "Identified outliers in sales data from the above plots. As it is only a small number I have decided to get rid of it"
   ]
  },
  {
   "cell_type": "code",
   "execution_count": 11,
   "id": "01f041af",
   "metadata": {},
   "outputs": [
    {
     "data": {
      "text/html": [
       "<div>\n",
       "<style scoped>\n",
       "    .dataframe tbody tr th:only-of-type {\n",
       "        vertical-align: middle;\n",
       "    }\n",
       "\n",
       "    .dataframe tbody tr th {\n",
       "        vertical-align: top;\n",
       "    }\n",
       "\n",
       "    .dataframe thead th {\n",
       "        text-align: right;\n",
       "    }\n",
       "</style>\n",
       "<table border=\"1\" class=\"dataframe\">\n",
       "  <thead>\n",
       "    <tr style=\"text-align: right;\">\n",
       "      <th></th>\n",
       "      <th>date</th>\n",
       "      <th>date_block_num</th>\n",
       "      <th>shop_id</th>\n",
       "      <th>item_id</th>\n",
       "      <th>item_price</th>\n",
       "      <th>item_cnt_day</th>\n",
       "    </tr>\n",
       "  </thead>\n",
       "  <tbody>\n",
       "    <tr>\n",
       "      <th>1163158</th>\n",
       "      <td>2013-12-13</td>\n",
       "      <td>11</td>\n",
       "      <td>12</td>\n",
       "      <td>6066</td>\n",
       "      <td>307980.0</td>\n",
       "      <td>1.0</td>\n",
       "    </tr>\n",
       "  </tbody>\n",
       "</table>\n",
       "</div>"
      ],
      "text/plain": [
       "              date  date_block_num  shop_id  item_id  item_price  item_cnt_day\n",
       "1163158 2013-12-13              11       12     6066    307980.0           1.0"
      ]
     },
     "execution_count": 11,
     "metadata": {},
     "output_type": "execute_result"
    }
   ],
   "source": [
    "sales[sales['item_price'] > 100000]"
   ]
  },
  {
   "cell_type": "code",
   "execution_count": 12,
   "id": "96be1996",
   "metadata": {
    "scrolled": true
   },
   "outputs": [
    {
     "data": {
      "text/html": [
       "<div>\n",
       "<style scoped>\n",
       "    .dataframe tbody tr th:only-of-type {\n",
       "        vertical-align: middle;\n",
       "    }\n",
       "\n",
       "    .dataframe tbody tr th {\n",
       "        vertical-align: top;\n",
       "    }\n",
       "\n",
       "    .dataframe thead th {\n",
       "        text-align: right;\n",
       "    }\n",
       "</style>\n",
       "<table border=\"1\" class=\"dataframe\">\n",
       "  <thead>\n",
       "    <tr style=\"text-align: right;\">\n",
       "      <th></th>\n",
       "      <th>date</th>\n",
       "      <th>date_block_num</th>\n",
       "      <th>shop_id</th>\n",
       "      <th>item_id</th>\n",
       "      <th>item_price</th>\n",
       "      <th>item_cnt_day</th>\n",
       "    </tr>\n",
       "  </thead>\n",
       "  <tbody>\n",
       "    <tr>\n",
       "      <th>2909818</th>\n",
       "      <td>2015-10-28</td>\n",
       "      <td>33</td>\n",
       "      <td>12</td>\n",
       "      <td>11373</td>\n",
       "      <td>0.908714</td>\n",
       "      <td>2169.0</td>\n",
       "    </tr>\n",
       "  </tbody>\n",
       "</table>\n",
       "</div>"
      ],
      "text/plain": [
       "              date  date_block_num  shop_id  item_id  item_price  item_cnt_day\n",
       "2909818 2015-10-28              33       12    11373    0.908714        2169.0"
      ]
     },
     "execution_count": 12,
     "metadata": {},
     "output_type": "execute_result"
    }
   ],
   "source": [
    "sales[sales['item_cnt_day'] > 1000]"
   ]
  },
  {
   "cell_type": "code",
   "execution_count": 13,
   "id": "c4d757a8",
   "metadata": {},
   "outputs": [],
   "source": [
    "# get rid of outliers\n",
    "sales = sales[sales['item_price']<100000]\n",
    "sales = sales[sales['item_cnt_day']<1000]"
   ]
  },
  {
   "cell_type": "markdown",
   "id": "e0b0e3e2",
   "metadata": {},
   "source": [
    "The decribe shows there are rows with item_price and item_cnt_day >0, perhaps it is a missing value (which would be a bit strange tbh, because one could simply not insert the row). The other option is that these are returns of the product. Not sure if these should be counted in."
   ]
  },
  {
   "cell_type": "code",
   "execution_count": 14,
   "id": "0e281ca5",
   "metadata": {
    "scrolled": true
   },
   "outputs": [
    {
     "data": {
      "text/html": [
       "<div>\n",
       "<style scoped>\n",
       "    .dataframe tbody tr th:only-of-type {\n",
       "        vertical-align: middle;\n",
       "    }\n",
       "\n",
       "    .dataframe tbody tr th {\n",
       "        vertical-align: top;\n",
       "    }\n",
       "\n",
       "    .dataframe thead th {\n",
       "        text-align: right;\n",
       "    }\n",
       "</style>\n",
       "<table border=\"1\" class=\"dataframe\">\n",
       "  <thead>\n",
       "    <tr style=\"text-align: right;\">\n",
       "      <th></th>\n",
       "      <th>date</th>\n",
       "      <th>date_block_num</th>\n",
       "      <th>shop_id</th>\n",
       "      <th>item_id</th>\n",
       "      <th>item_price</th>\n",
       "      <th>item_cnt_day</th>\n",
       "    </tr>\n",
       "  </thead>\n",
       "  <tbody>\n",
       "    <tr>\n",
       "      <th>484683</th>\n",
       "      <td>2013-05-15</td>\n",
       "      <td>4</td>\n",
       "      <td>32</td>\n",
       "      <td>2973</td>\n",
       "      <td>-1.0</td>\n",
       "      <td>1.0</td>\n",
       "    </tr>\n",
       "  </tbody>\n",
       "</table>\n",
       "</div>"
      ],
      "text/plain": [
       "             date  date_block_num  shop_id  item_id  item_price  item_cnt_day\n",
       "484683 2013-05-15               4       32     2973        -1.0           1.0"
      ]
     },
     "execution_count": 14,
     "metadata": {},
     "output_type": "execute_result"
    }
   ],
   "source": [
    "sales[sales['item_price'] < 0]"
   ]
  },
  {
   "cell_type": "markdown",
   "id": "4dd2e5bd",
   "metadata": {},
   "source": [
    "There is one item with price below zero. Fill it with median"
   ]
  },
  {
   "cell_type": "code",
   "execution_count": 15,
   "id": "a76d1fbb",
   "metadata": {},
   "outputs": [],
   "source": [
    "median = sales.item_price.median()\n",
    "sales.loc[sales.item_price<0, 'item_price'] = median"
   ]
  },
  {
   "cell_type": "code",
   "execution_count": 16,
   "id": "4c4ad625",
   "metadata": {},
   "outputs": [
    {
     "name": "stderr",
     "output_type": "stream",
     "text": [
      "<ipython-input-16-f7ba77e2dbba>:11: FutureWarning: Series.dt.weekofyear and Series.dt.week have been deprecated.  Please use Series.dt.isocalendar().week instead.\n",
      "  sales['week'] = sales['date'].dt.week\n"
     ]
    },
    {
     "data": {
      "text/plain": [
       "Index(['date', 'date_block_num', 'shop_id', 'item_id', 'item_price',\n",
       "       'item_cnt_day', 'day', 'month', 'year', 'week'],\n",
       "      dtype='object')"
      ]
     },
     "execution_count": 16,
     "metadata": {},
     "output_type": "execute_result"
    }
   ],
   "source": [
    "# making a new column day\n",
    "sales['day'] = sales['date'].dt.day\n",
    "\n",
    "# making a new column month\n",
    "sales['month'] = sales['date'].dt.month\n",
    "\n",
    "# making a new column year\n",
    "sales['year'] = sales['date'].dt.year\n",
    "\n",
    "# making a new column week\n",
    "sales['week'] = sales['date'].dt.week\n",
    "\n",
    "# checking the new columns\n",
    "sales.columns"
   ]
  },
  {
   "cell_type": "code",
   "execution_count": 17,
   "id": "26f53c88",
   "metadata": {},
   "outputs": [],
   "source": [
    "# calculate the sales store per month\n",
    "sales['sales']=sales.item_price*sales.item_cnt_day"
   ]
  },
  {
   "cell_type": "code",
   "execution_count": 18,
   "id": "b8a9d3d0",
   "metadata": {
    "scrolled": false
   },
   "outputs": [
    {
     "data": {
      "text/html": [
       "<div>\n",
       "<style scoped>\n",
       "    .dataframe tbody tr th:only-of-type {\n",
       "        vertical-align: middle;\n",
       "    }\n",
       "\n",
       "    .dataframe tbody tr th {\n",
       "        vertical-align: top;\n",
       "    }\n",
       "\n",
       "    .dataframe thead th {\n",
       "        text-align: right;\n",
       "    }\n",
       "</style>\n",
       "<table border=\"1\" class=\"dataframe\">\n",
       "  <thead>\n",
       "    <tr style=\"text-align: right;\">\n",
       "      <th></th>\n",
       "      <th>date</th>\n",
       "      <th>date_block_num</th>\n",
       "      <th>shop_id</th>\n",
       "      <th>item_id</th>\n",
       "      <th>item_price</th>\n",
       "      <th>item_cnt_day</th>\n",
       "      <th>day</th>\n",
       "      <th>month</th>\n",
       "      <th>year</th>\n",
       "      <th>week</th>\n",
       "      <th>sales</th>\n",
       "    </tr>\n",
       "  </thead>\n",
       "  <tbody>\n",
       "    <tr>\n",
       "      <th>0</th>\n",
       "      <td>2013-01-02</td>\n",
       "      <td>0</td>\n",
       "      <td>59</td>\n",
       "      <td>22154</td>\n",
       "      <td>999.00</td>\n",
       "      <td>1.0</td>\n",
       "      <td>2</td>\n",
       "      <td>1</td>\n",
       "      <td>2013</td>\n",
       "      <td>1</td>\n",
       "      <td>999.00</td>\n",
       "    </tr>\n",
       "    <tr>\n",
       "      <th>1</th>\n",
       "      <td>2013-01-03</td>\n",
       "      <td>0</td>\n",
       "      <td>25</td>\n",
       "      <td>2552</td>\n",
       "      <td>899.00</td>\n",
       "      <td>1.0</td>\n",
       "      <td>3</td>\n",
       "      <td>1</td>\n",
       "      <td>2013</td>\n",
       "      <td>1</td>\n",
       "      <td>899.00</td>\n",
       "    </tr>\n",
       "    <tr>\n",
       "      <th>2</th>\n",
       "      <td>2013-01-05</td>\n",
       "      <td>0</td>\n",
       "      <td>25</td>\n",
       "      <td>2552</td>\n",
       "      <td>899.00</td>\n",
       "      <td>-1.0</td>\n",
       "      <td>5</td>\n",
       "      <td>1</td>\n",
       "      <td>2013</td>\n",
       "      <td>1</td>\n",
       "      <td>-899.00</td>\n",
       "    </tr>\n",
       "    <tr>\n",
       "      <th>3</th>\n",
       "      <td>2013-01-06</td>\n",
       "      <td>0</td>\n",
       "      <td>25</td>\n",
       "      <td>2554</td>\n",
       "      <td>1709.05</td>\n",
       "      <td>1.0</td>\n",
       "      <td>6</td>\n",
       "      <td>1</td>\n",
       "      <td>2013</td>\n",
       "      <td>1</td>\n",
       "      <td>1709.05</td>\n",
       "    </tr>\n",
       "    <tr>\n",
       "      <th>4</th>\n",
       "      <td>2013-01-15</td>\n",
       "      <td>0</td>\n",
       "      <td>25</td>\n",
       "      <td>2555</td>\n",
       "      <td>1099.00</td>\n",
       "      <td>1.0</td>\n",
       "      <td>15</td>\n",
       "      <td>1</td>\n",
       "      <td>2013</td>\n",
       "      <td>3</td>\n",
       "      <td>1099.00</td>\n",
       "    </tr>\n",
       "  </tbody>\n",
       "</table>\n",
       "</div>"
      ],
      "text/plain": [
       "        date  date_block_num  shop_id  item_id  item_price  item_cnt_day  day  \\\n",
       "0 2013-01-02               0       59    22154      999.00           1.0    2   \n",
       "1 2013-01-03               0       25     2552      899.00           1.0    3   \n",
       "2 2013-01-05               0       25     2552      899.00          -1.0    5   \n",
       "3 2013-01-06               0       25     2554     1709.05           1.0    6   \n",
       "4 2013-01-15               0       25     2555     1099.00           1.0   15   \n",
       "\n",
       "   month  year  week    sales  \n",
       "0      1  2013     1   999.00  \n",
       "1      1  2013     1   899.00  \n",
       "2      1  2013     1  -899.00  \n",
       "3      1  2013     1  1709.05  \n",
       "4      1  2013     3  1099.00  "
      ]
     },
     "execution_count": 18,
     "metadata": {},
     "output_type": "execute_result"
    }
   ],
   "source": [
    "sales.head()"
   ]
  },
  {
   "cell_type": "markdown",
   "id": "a4d39ca0",
   "metadata": {},
   "source": [
    "## Shops"
   ]
  },
  {
   "cell_type": "code",
   "execution_count": 19,
   "id": "7d3d1c86",
   "metadata": {},
   "outputs": [
    {
     "data": {
      "text/html": [
       "<div>\n",
       "<style scoped>\n",
       "    .dataframe tbody tr th:only-of-type {\n",
       "        vertical-align: middle;\n",
       "    }\n",
       "\n",
       "    .dataframe tbody tr th {\n",
       "        vertical-align: top;\n",
       "    }\n",
       "\n",
       "    .dataframe thead th {\n",
       "        text-align: right;\n",
       "    }\n",
       "</style>\n",
       "<table border=\"1\" class=\"dataframe\">\n",
       "  <thead>\n",
       "    <tr style=\"text-align: right;\">\n",
       "      <th></th>\n",
       "      <th>shop_name</th>\n",
       "      <th>shop_id</th>\n",
       "    </tr>\n",
       "  </thead>\n",
       "  <tbody>\n",
       "    <tr>\n",
       "      <th>0</th>\n",
       "      <td>!Якутск Орджоникидзе, 56 фран</td>\n",
       "      <td>0</td>\n",
       "    </tr>\n",
       "    <tr>\n",
       "      <th>1</th>\n",
       "      <td>!Якутск ТЦ \"Центральный\" фран</td>\n",
       "      <td>1</td>\n",
       "    </tr>\n",
       "    <tr>\n",
       "      <th>2</th>\n",
       "      <td>Адыгея ТЦ \"Мега\"</td>\n",
       "      <td>2</td>\n",
       "    </tr>\n",
       "    <tr>\n",
       "      <th>3</th>\n",
       "      <td>Балашиха ТРК \"Октябрь-Киномир\"</td>\n",
       "      <td>3</td>\n",
       "    </tr>\n",
       "    <tr>\n",
       "      <th>4</th>\n",
       "      <td>Волжский ТЦ \"Волга Молл\"</td>\n",
       "      <td>4</td>\n",
       "    </tr>\n",
       "  </tbody>\n",
       "</table>\n",
       "</div>"
      ],
      "text/plain": [
       "                        shop_name  shop_id\n",
       "0   !Якутск Орджоникидзе, 56 фран        0\n",
       "1   !Якутск ТЦ \"Центральный\" фран        1\n",
       "2                Адыгея ТЦ \"Мега\"        2\n",
       "3  Балашиха ТРК \"Октябрь-Киномир\"        3\n",
       "4        Волжский ТЦ \"Волга Молл\"        4"
      ]
     },
     "execution_count": 19,
     "metadata": {},
     "output_type": "execute_result"
    }
   ],
   "source": [
    "shops.head()"
   ]
  },
  {
   "cell_type": "code",
   "execution_count": 20,
   "id": "d4a20f01",
   "metadata": {},
   "outputs": [
    {
     "name": "stdout",
     "output_type": "stream",
     "text": [
      "<class 'pandas.core.frame.DataFrame'>\n",
      "RangeIndex: 60 entries, 0 to 59\n",
      "Data columns (total 2 columns):\n",
      " #   Column     Non-Null Count  Dtype \n",
      "---  ------     --------------  ----- \n",
      " 0   shop_name  60 non-null     object\n",
      " 1   shop_id    60 non-null     int64 \n",
      "dtypes: int64(1), object(1)\n",
      "memory usage: 1.1+ KB\n"
     ]
    }
   ],
   "source": [
    "shops.info()"
   ]
  },
  {
   "cell_type": "code",
   "execution_count": 21,
   "id": "4aff2b08",
   "metadata": {},
   "outputs": [
    {
     "data": {
      "text/plain": [
       "0"
      ]
     },
     "execution_count": 21,
     "metadata": {},
     "output_type": "execute_result"
    }
   ],
   "source": [
    "shops.duplicated('shop_name').sum()"
   ]
  },
  {
   "cell_type": "code",
   "execution_count": 22,
   "id": "092cca47",
   "metadata": {},
   "outputs": [
    {
     "data": {
      "text/plain": [
       "array(['!Якутск Орджоникидзе, 56 фран', '!Якутск ТЦ \"Центральный\" фран',\n",
       "       'Адыгея ТЦ \"Мега\"', 'Балашиха ТРК \"Октябрь-Киномир\"',\n",
       "       'Волжский ТЦ \"Волга Молл\"', 'Вологда ТРЦ \"Мармелад\"',\n",
       "       'Воронеж (Плехановская, 13)', 'Воронеж ТРЦ \"Максимир\"',\n",
       "       'Воронеж ТРЦ Сити-Парк \"Град\"', 'Выездная Торговля',\n",
       "       'Жуковский ул. Чкалова 39м?', 'Жуковский ул. Чкалова 39м²',\n",
       "       'Интернет-магазин ЧС', 'Казань ТЦ \"Бехетле\"',\n",
       "       'Казань ТЦ \"ПаркХаус\" II', 'Калуга ТРЦ \"XXI век\"',\n",
       "       'Коломна ТЦ \"Рио\"', 'Красноярск ТЦ \"Взлетка Плаза\"',\n",
       "       'Красноярск ТЦ \"Июнь\"', 'Курск ТЦ \"Пушкинский\"',\n",
       "       'Москва \"Распродажа\"', 'Москва МТРЦ \"Афи Молл\"',\n",
       "       'Москва Магазин С21', 'Москва ТК \"Буденовский\" (пав.А2)',\n",
       "       'Москва ТК \"Буденовский\" (пав.К7)', 'Москва ТРК \"Атриум\"',\n",
       "       'Москва ТЦ \"Ареал\" (Беляево)', 'Москва ТЦ \"МЕГА Белая Дача II\"',\n",
       "       'Москва ТЦ \"МЕГА Теплый Стан\" II',\n",
       "       'Москва ТЦ \"Новый век\" (Новокосино)', 'Москва ТЦ \"Перловский\"',\n",
       "       'Москва ТЦ \"Семеновский\"', 'Москва ТЦ \"Серебряный Дом\"',\n",
       "       'Мытищи ТРК \"XL-3\"', 'Н.Новгород ТРЦ \"РИО\"',\n",
       "       'Н.Новгород ТРЦ \"Фантастика\"',\n",
       "       'Новосибирск ТРЦ \"Галерея Новосибирск\"', 'Новосибирск ТЦ \"Мега\"',\n",
       "       'Омск ТЦ \"Мега\"', 'РостовНаДону ТРК \"Мегацентр Горизонт\"',\n",
       "       'РостовНаДону ТРК \"Мегацентр Горизонт\" Островной',\n",
       "       'РостовНаДону ТЦ \"Мега\"', 'СПб ТК \"Невский Центр\"',\n",
       "       'СПб ТК \"Сенная\"', 'Самара ТЦ \"Мелодия\"', 'Самара ТЦ \"ПаркХаус\"',\n",
       "       'Сергиев Посад ТЦ \"7Я\"', 'Сургут ТРЦ \"Сити Молл\"',\n",
       "       'Томск ТРЦ \"Изумрудный Город\"', 'Тюмень ТРЦ \"Кристалл\"',\n",
       "       'Тюмень ТЦ \"Гудвин\"', 'Тюмень ТЦ \"Зеленый Берег\"',\n",
       "       'Уфа ТК \"Центральный\"', 'Уфа ТЦ \"Семья\" 2', 'Химки ТЦ \"Мега\"',\n",
       "       'Цифровой склад 1С-Онлайн', 'Чехов ТРЦ \"Карнавал\"',\n",
       "       'Якутск Орджоникидзе, 56', 'Якутск ТЦ \"Центральный\"',\n",
       "       'Ярославль ТЦ \"Альтаир\"'], dtype=object)"
      ]
     },
     "execution_count": 22,
     "metadata": {},
     "output_type": "execute_result"
    }
   ],
   "source": [
    "shops['shop_name'].unique()"
   ]
  },
  {
   "cell_type": "markdown",
   "id": "a68f68f2",
   "metadata": {},
   "source": [
    "In most of the cases 1st word on the shops names is a city:\n",
    "Moscow [Москва]\n",
    "Rostnone[]\n",
    "etc\n",
    "We are going to create a new feature with the city of a shop \n",
    "\n",
    "\n",
    "Also, there are some shops that appear to be the same one:\n",
    "\"Zhukovsky st. Chkalova 39m²\" --> \"Zhukovsky st. Chkalova 39m?\"\n",
    "\"! Yakutsk Ordzhonikidze, 56 fran\" --> \"Yakutsk Ordzhonikidze, 56\"\n",
    "\"! Yakutsk shopping center \"Central\" Fran\" --> \"Yakutsk shopping center \"Central\"\n",
    "\"Rostnone TRK \"Megacentr Horizont\" --> \"Rostov on the Don TRK \"Megcenter Horizon\" island\""
   ]
  },
  {
   "cell_type": "code",
   "execution_count": 23,
   "id": "ca9b308e",
   "metadata": {},
   "outputs": [],
   "source": [
    "shops['city'] = shops['shop_name'].apply(lambda x: x.replace('!','').split()[0])"
   ]
  },
  {
   "cell_type": "code",
   "execution_count": 24,
   "id": "6164acd5",
   "metadata": {},
   "outputs": [
    {
     "name": "stdout",
     "output_type": "stream",
     "text": [
      "> !Якутск Орджоникидзе, 56 фран (id: 0)         <--->  Якутск Орджоникидзе, 56 (id: 57)\n",
      "> !Якутск ТЦ \"Центральный\" фран (id: 1) <--->  Якутск ТЦ \"Центральный\" (id: 58)\n",
      "> Жуковский ул. Чкалова 39м? (id: 10)             <--->  Жуковский ул. Чкалова 39м² (id: 11)\n",
      "> РостовНаДону ТРК \"Мегацентр Горизонт\" (id: 39)       <--->  РостовНаДону ТРК \"Мегацентр Горизонт\" Островной (id: 40)\n",
      "\n"
     ]
    }
   ],
   "source": [
    "# As we saw on EDA some shops are duplicated w/distinct shop_id and shop_name\n",
    "print(f'> {shops.iloc[0,0]} (id: {shops.iloc[0,1]})         <--->  \\\n",
    "{shops.iloc[57,0]} (id: {shops.iloc[57,1]})\\n\\\n",
    "> {shops.iloc[1,0]} (id: {shops.iloc[1,1]}) <--->  \\\n",
    "{shops.iloc[58,0]} (id: {shops.iloc[58,1]})\\n\\\n",
    "> {shops.iloc[10,0]} (id: {shops.iloc[10,1]})             <--->  \\\n",
    "{shops.iloc[11,0]} (id: {shops.iloc[11,1]})\\n\\\n",
    "> {shops.iloc[39,0]} (id: {shops.iloc[39,1]})       <--->  \\\n",
    "{shops.iloc[40,0]} (id: {shops.iloc[40,1]})\\n')"
   ]
  },
  {
   "cell_type": "code",
   "execution_count": 25,
   "id": "0db5876e",
   "metadata": {},
   "outputs": [],
   "source": [
    "# We correct this cases\n",
    "sales['shop_id'] = sales['shop_id'].replace({0: 57, 1: 58, 11: 10, 40: 39})\n",
    "test['shop_id'] = test['shop_id'].replace({0: 57, 1: 58, 11: 10, 40: 39})"
   ]
  },
  {
   "cell_type": "code",
   "execution_count": 26,
   "id": "315eee9e",
   "metadata": {},
   "outputs": [],
   "source": [
    "# Some of the shops that are in the sales dataframe are not in the Test set. \n",
    "# We Leak to improve predictions\n",
    "shops_on_test = test['shop_id'].unique()\n",
    "sales = sales[sales['shop_id'].isin(shops_on_test)]"
   ]
  },
  {
   "cell_type": "markdown",
   "id": "66d93ac0",
   "metadata": {},
   "source": [
    "## Items "
   ]
  },
  {
   "cell_type": "code",
   "execution_count": 27,
   "id": "6e535847",
   "metadata": {},
   "outputs": [
    {
     "data": {
      "text/html": [
       "<div>\n",
       "<style scoped>\n",
       "    .dataframe tbody tr th:only-of-type {\n",
       "        vertical-align: middle;\n",
       "    }\n",
       "\n",
       "    .dataframe tbody tr th {\n",
       "        vertical-align: top;\n",
       "    }\n",
       "\n",
       "    .dataframe thead th {\n",
       "        text-align: right;\n",
       "    }\n",
       "</style>\n",
       "<table border=\"1\" class=\"dataframe\">\n",
       "  <thead>\n",
       "    <tr style=\"text-align: right;\">\n",
       "      <th></th>\n",
       "      <th>item_name</th>\n",
       "      <th>item_id</th>\n",
       "      <th>item_category_id</th>\n",
       "    </tr>\n",
       "  </thead>\n",
       "  <tbody>\n",
       "    <tr>\n",
       "      <th>0</th>\n",
       "      <td>! ВО ВЛАСТИ НАВАЖДЕНИЯ (ПЛАСТ.)         D</td>\n",
       "      <td>0</td>\n",
       "      <td>40</td>\n",
       "    </tr>\n",
       "    <tr>\n",
       "      <th>1</th>\n",
       "      <td>!ABBYY FineReader 12 Professional Edition Full...</td>\n",
       "      <td>1</td>\n",
       "      <td>76</td>\n",
       "    </tr>\n",
       "    <tr>\n",
       "      <th>2</th>\n",
       "      <td>***В ЛУЧАХ СЛАВЫ   (UNV)                    D</td>\n",
       "      <td>2</td>\n",
       "      <td>40</td>\n",
       "    </tr>\n",
       "    <tr>\n",
       "      <th>3</th>\n",
       "      <td>***ГОЛУБАЯ ВОЛНА  (Univ)                      D</td>\n",
       "      <td>3</td>\n",
       "      <td>40</td>\n",
       "    </tr>\n",
       "    <tr>\n",
       "      <th>4</th>\n",
       "      <td>***КОРОБКА (СТЕКЛО)                       D</td>\n",
       "      <td>4</td>\n",
       "      <td>40</td>\n",
       "    </tr>\n",
       "  </tbody>\n",
       "</table>\n",
       "</div>"
      ],
      "text/plain": [
       "                                           item_name  item_id  \\\n",
       "0          ! ВО ВЛАСТИ НАВАЖДЕНИЯ (ПЛАСТ.)         D        0   \n",
       "1  !ABBYY FineReader 12 Professional Edition Full...        1   \n",
       "2      ***В ЛУЧАХ СЛАВЫ   (UNV)                    D        2   \n",
       "3    ***ГОЛУБАЯ ВОЛНА  (Univ)                      D        3   \n",
       "4        ***КОРОБКА (СТЕКЛО)                       D        4   \n",
       "\n",
       "   item_category_id  \n",
       "0                40  \n",
       "1                76  \n",
       "2                40  \n",
       "3                40  \n",
       "4                40  "
      ]
     },
     "execution_count": 27,
     "metadata": {},
     "output_type": "execute_result"
    }
   ],
   "source": [
    "items.head()"
   ]
  },
  {
   "cell_type": "code",
   "execution_count": 28,
   "id": "d684f378",
   "metadata": {},
   "outputs": [
    {
     "name": "stdout",
     "output_type": "stream",
     "text": [
      "<class 'pandas.core.frame.DataFrame'>\n",
      "RangeIndex: 22170 entries, 0 to 22169\n",
      "Data columns (total 3 columns):\n",
      " #   Column            Non-Null Count  Dtype \n",
      "---  ------            --------------  ----- \n",
      " 0   item_name         22170 non-null  object\n",
      " 1   item_id           22170 non-null  int64 \n",
      " 2   item_category_id  22170 non-null  int64 \n",
      "dtypes: int64(2), object(1)\n",
      "memory usage: 519.7+ KB\n"
     ]
    }
   ],
   "source": [
    "items.info()"
   ]
  },
  {
   "cell_type": "code",
   "execution_count": 29,
   "id": "3c23d08a",
   "metadata": {},
   "outputs": [
    {
     "data": {
      "text/plain": [
       "0"
      ]
     },
     "execution_count": 29,
     "metadata": {},
     "output_type": "execute_result"
    }
   ],
   "source": [
    "items.duplicated('item_name').sum()"
   ]
  },
  {
   "cell_type": "code",
   "execution_count": 30,
   "id": "4d3091cb",
   "metadata": {},
   "outputs": [
    {
     "data": {
      "text/plain": [
       "array(['! ВО ВЛАСТИ НАВАЖДЕНИЯ (ПЛАСТ.)         D',\n",
       "       '!ABBYY FineReader 12 Professional Edition Full [PC, Цифровая версия]',\n",
       "       '***В ЛУЧАХ СЛАВЫ   (UNV)                    D', ...,\n",
       "       'Язык запросов 1С:Предприятия 8 (+CD). Хрусталева Е.Ю.',\n",
       "       'Яйцо для Little Inu', 'Яйцо дракона (Игра престолов)'],\n",
       "      dtype=object)"
      ]
     },
     "execution_count": 30,
     "metadata": {},
     "output_type": "execute_result"
    }
   ],
   "source": [
    "items['item_name'].unique()"
   ]
  },
  {
   "cell_type": "code",
   "execution_count": 51,
   "id": "576801dc",
   "metadata": {},
   "outputs": [
    {
     "data": {
      "text/plain": [
       "22170"
      ]
     },
     "execution_count": 51,
     "metadata": {},
     "output_type": "execute_result"
    }
   ],
   "source": [
    "items['item_id'].nunique()"
   ]
  },
  {
   "cell_type": "code",
   "execution_count": 53,
   "id": "df7d3bbd",
   "metadata": {},
   "outputs": [
    {
     "data": {
      "text/plain": [
       "(22170, 4)"
      ]
     },
     "execution_count": 53,
     "metadata": {},
     "output_type": "execute_result"
    }
   ],
   "source": [
    "items.shape"
   ]
  },
  {
   "cell_type": "code",
   "execution_count": 54,
   "id": "a052431f",
   "metadata": {},
   "outputs": [
    {
     "data": {
      "text/plain": [
       "(2433534, 11)"
      ]
     },
     "execution_count": 54,
     "metadata": {},
     "output_type": "execute_result"
    }
   ],
   "source": [
    "sales.shape"
   ]
  },
  {
   "cell_type": "code",
   "execution_count": 60,
   "id": "903e168d",
   "metadata": {
    "scrolled": true
   },
   "outputs": [],
   "source": [
    "Sales_per_item=sales.groupby(\"item_id\").size().sort_values()"
   ]
  },
  {
   "cell_type": "code",
   "execution_count": 55,
   "id": "a04716bb",
   "metadata": {},
   "outputs": [
    {
     "data": {
      "text/plain": [
       "109.76698240866035"
      ]
     },
     "execution_count": 55,
     "metadata": {},
     "output_type": "execute_result"
    }
   ],
   "source": [
    "sales.shape[0]/items.shape[0]"
   ]
  },
  {
   "cell_type": "code",
   "execution_count": 58,
   "id": "bbd48e19",
   "metadata": {},
   "outputs": [
    {
     "data": {
      "text/plain": [
       "(60, 3)"
      ]
     },
     "execution_count": 58,
     "metadata": {},
     "output_type": "execute_result"
    }
   ],
   "source": [
    "shops.shape"
   ]
  },
  {
   "cell_type": "markdown",
   "id": "d0fe6898",
   "metadata": {},
   "source": [
    "We have several items that only have one appearence in Train set"
   ]
  },
  {
   "cell_type": "code",
   "execution_count": 59,
   "id": "5ed9b131",
   "metadata": {},
   "outputs": [
    {
     "data": {
      "text/html": [
       "<div>\n",
       "<style scoped>\n",
       "    .dataframe tbody tr th:only-of-type {\n",
       "        vertical-align: middle;\n",
       "    }\n",
       "\n",
       "    .dataframe tbody tr th {\n",
       "        vertical-align: top;\n",
       "    }\n",
       "\n",
       "    .dataframe thead th {\n",
       "        text-align: right;\n",
       "    }\n",
       "</style>\n",
       "<table border=\"1\" class=\"dataframe\">\n",
       "  <thead>\n",
       "    <tr style=\"text-align: right;\">\n",
       "      <th></th>\n",
       "      <th>date</th>\n",
       "      <th>date_block_num</th>\n",
       "      <th>shop_id</th>\n",
       "      <th>item_id</th>\n",
       "      <th>item_price</th>\n",
       "      <th>item_cnt_day</th>\n",
       "      <th>day</th>\n",
       "      <th>month</th>\n",
       "      <th>year</th>\n",
       "      <th>week</th>\n",
       "      <th>sales</th>\n",
       "    </tr>\n",
       "  </thead>\n",
       "  <tbody>\n",
       "    <tr>\n",
       "      <th>0</th>\n",
       "      <td>2013-01-02</td>\n",
       "      <td>0</td>\n",
       "      <td>59</td>\n",
       "      <td>22154</td>\n",
       "      <td>999.00</td>\n",
       "      <td>1.0</td>\n",
       "      <td>2</td>\n",
       "      <td>1</td>\n",
       "      <td>2013</td>\n",
       "      <td>1</td>\n",
       "      <td>999.00</td>\n",
       "    </tr>\n",
       "    <tr>\n",
       "      <th>1</th>\n",
       "      <td>2013-01-03</td>\n",
       "      <td>0</td>\n",
       "      <td>25</td>\n",
       "      <td>2552</td>\n",
       "      <td>899.00</td>\n",
       "      <td>1.0</td>\n",
       "      <td>3</td>\n",
       "      <td>1</td>\n",
       "      <td>2013</td>\n",
       "      <td>1</td>\n",
       "      <td>899.00</td>\n",
       "    </tr>\n",
       "    <tr>\n",
       "      <th>2</th>\n",
       "      <td>2013-01-05</td>\n",
       "      <td>0</td>\n",
       "      <td>25</td>\n",
       "      <td>2552</td>\n",
       "      <td>899.00</td>\n",
       "      <td>-1.0</td>\n",
       "      <td>5</td>\n",
       "      <td>1</td>\n",
       "      <td>2013</td>\n",
       "      <td>1</td>\n",
       "      <td>-899.00</td>\n",
       "    </tr>\n",
       "    <tr>\n",
       "      <th>3</th>\n",
       "      <td>2013-01-06</td>\n",
       "      <td>0</td>\n",
       "      <td>25</td>\n",
       "      <td>2554</td>\n",
       "      <td>1709.05</td>\n",
       "      <td>1.0</td>\n",
       "      <td>6</td>\n",
       "      <td>1</td>\n",
       "      <td>2013</td>\n",
       "      <td>1</td>\n",
       "      <td>1709.05</td>\n",
       "    </tr>\n",
       "    <tr>\n",
       "      <th>4</th>\n",
       "      <td>2013-01-15</td>\n",
       "      <td>0</td>\n",
       "      <td>25</td>\n",
       "      <td>2555</td>\n",
       "      <td>1099.00</td>\n",
       "      <td>1.0</td>\n",
       "      <td>15</td>\n",
       "      <td>1</td>\n",
       "      <td>2013</td>\n",
       "      <td>3</td>\n",
       "      <td>1099.00</td>\n",
       "    </tr>\n",
       "  </tbody>\n",
       "</table>\n",
       "</div>"
      ],
      "text/plain": [
       "        date  date_block_num  shop_id  item_id  item_price  item_cnt_day  day  \\\n",
       "0 2013-01-02               0       59    22154      999.00           1.0    2   \n",
       "1 2013-01-03               0       25     2552      899.00           1.0    3   \n",
       "2 2013-01-05               0       25     2552      899.00          -1.0    5   \n",
       "3 2013-01-06               0       25     2554     1709.05           1.0    6   \n",
       "4 2013-01-15               0       25     2555     1099.00           1.0   15   \n",
       "\n",
       "   month  year  week    sales  \n",
       "0      1  2013     1   999.00  \n",
       "1      1  2013     1   899.00  \n",
       "2      1  2013     1  -899.00  \n",
       "3      1  2013     1  1709.05  \n",
       "4      1  2013     3  1099.00  "
      ]
     },
     "execution_count": 59,
     "metadata": {},
     "output_type": "execute_result"
    }
   ],
   "source": [
    "sales.head()"
   ]
  },
  {
   "cell_type": "code",
   "execution_count": 66,
   "id": "55b99016",
   "metadata": {},
   "outputs": [
    {
     "ename": "TypeError",
     "evalue": "scatter() missing 1 required positional argument: 'y'",
     "output_type": "error",
     "traceback": [
      "\u001b[0;31m---------------------------------------------------------------------------\u001b[0m",
      "\u001b[0;31mTypeError\u001b[0m                                 Traceback (most recent call last)",
      "\u001b[0;32m<ipython-input-66-3510ab724597>\u001b[0m in \u001b[0;36m<module>\u001b[0;34m\u001b[0m\n\u001b[0;32m----> 1\u001b[0;31m \u001b[0mplt\u001b[0m\u001b[0;34m.\u001b[0m\u001b[0mscatter\u001b[0m\u001b[0;34m(\u001b[0m\u001b[0mSales_per_item\u001b[0m\u001b[0;34m,\u001b[0m\u001b[0mbins\u001b[0m\u001b[0;34m=\u001b[0m\u001b[0;36m300\u001b[0m\u001b[0;34m)\u001b[0m\u001b[0;34m\u001b[0m\u001b[0;34m\u001b[0m\u001b[0m\n\u001b[0m",
      "\u001b[0;31mTypeError\u001b[0m: scatter() missing 1 required positional argument: 'y'"
     ]
    }
   ],
   "source": [
    "plt.(Sales_per_item,bins=300)"
   ]
  },
  {
   "cell_type": "code",
   "execution_count": 86,
   "id": "bd7bc7c8",
   "metadata": {},
   "outputs": [],
   "source": [
    "Sales_per_item['cumsum']=Sales_per_item[0].cumsum()"
   ]
  },
  {
   "cell_type": "code",
   "execution_count": 95,
   "id": "5a9201ef",
   "metadata": {},
   "outputs": [
    {
     "data": {
      "text/plain": [
       "<AxesSubplot:>"
      ]
     },
     "execution_count": 95,
     "metadata": {},
     "output_type": "execute_result"
    },
    {
     "data": {
      "image/png": "[encoded data removed]",
      "text/plain": [
       "<Figure size 432x288 with 1 Axes>"
      ]
     },
     "metadata": {
      "needs_background": "light"
     },
     "output_type": "display_data"
    }
   ],
   "source": [
    "Sales_per_item['cumsum'].plot()"
   ]
  },
  {
   "cell_type": "code",
   "execution_count": 96,
   "id": "037d4fc4",
   "metadata": {},
   "outputs": [
    {
     "data": {
      "text/plain": [
       "<AxesSubplot:>"
      ]
     },
     "execution_count": 96,
     "metadata": {},
     "output_type": "execute_result"
    },
    {
     "data": {
      "image/png": "[encoded data removed]",
      "text/plain": [
       "<Figure size 432x288 with 1 Axes>"
      ]
     },
     "metadata": {
      "needs_background": "light"
     },
     "output_type": "display_data"
    }
   ],
   "source": [
    "Sales_per_item['perc_cumsum'].plot()"
   ]
  },
  {
   "cell_type": "code",
   "execution_count": null,
   "id": "fe27be11",
   "metadata": {},
   "outputs": [],
   "source": []
  },
  {
   "cell_type": "code",
   "execution_count": 78,
   "id": "f909f7d1",
   "metadata": {},
   "outputs": [],
   "source": [
    "Sales_per_item.sort_values(ascending=False,inplace=True)"
   ]
  },
  {
   "cell_type": "code",
   "execution_count": 84,
   "id": "4f7206eb",
   "metadata": {},
   "outputs": [],
   "source": [
    "Sales_per_item=pd.DataFrame(Sales_per_item)"
   ]
  },
  {
   "cell_type": "code",
   "execution_count": 94,
   "id": "ae0b73f1",
   "metadata": {},
   "outputs": [
    {
     "data": {
      "text/html": [
       "<div>\n",
       "<style scoped>\n",
       "    .dataframe tbody tr th:only-of-type {\n",
       "        vertical-align: middle;\n",
       "    }\n",
       "\n",
       "    .dataframe tbody tr th {\n",
       "        vertical-align: top;\n",
       "    }\n",
       "\n",
       "    .dataframe thead th {\n",
       "        text-align: right;\n",
       "    }\n",
       "</style>\n",
       "<table border=\"1\" class=\"dataframe\">\n",
       "  <thead>\n",
       "    <tr style=\"text-align: right;\">\n",
       "      <th></th>\n",
       "      <th>item_id</th>\n",
       "      <th>0</th>\n",
       "      <th>cumsum</th>\n",
       "      <th>perc_cumsum</th>\n",
       "    </tr>\n",
       "  </thead>\n",
       "  <tbody>\n",
       "    <tr>\n",
       "      <th>0</th>\n",
       "      <td>20949</td>\n",
       "      <td>26736</td>\n",
       "      <td>26736</td>\n",
       "      <td>1.098649</td>\n",
       "    </tr>\n",
       "    <tr>\n",
       "      <th>1</th>\n",
       "      <td>5822</td>\n",
       "      <td>7942</td>\n",
       "      <td>34678</td>\n",
       "      <td>1.425006</td>\n",
       "    </tr>\n",
       "    <tr>\n",
       "      <th>2</th>\n",
       "      <td>17717</td>\n",
       "      <td>7900</td>\n",
       "      <td>42578</td>\n",
       "      <td>1.749637</td>\n",
       "    </tr>\n",
       "    <tr>\n",
       "      <th>3</th>\n",
       "      <td>2808</td>\n",
       "      <td>6380</td>\n",
       "      <td>48958</td>\n",
       "      <td>2.011807</td>\n",
       "    </tr>\n",
       "    <tr>\n",
       "      <th>4</th>\n",
       "      <td>4181</td>\n",
       "      <td>5996</td>\n",
       "      <td>54954</td>\n",
       "      <td>2.258197</td>\n",
       "    </tr>\n",
       "  </tbody>\n",
       "</table>\n",
       "</div>"
      ],
      "text/plain": [
       "   item_id      0  cumsum  perc_cumsum\n",
       "0    20949  26736   26736     1.098649\n",
       "1     5822   7942   34678     1.425006\n",
       "2    17717   7900   42578     1.749637\n",
       "3     2808   6380   48958     2.011807\n",
       "4     4181   5996   54954     2.258197"
      ]
     },
     "execution_count": 94,
     "metadata": {},
     "output_type": "execute_result"
    }
   ],
   "source": [
    "Sales_per_item.head()"
   ]
  },
  {
   "cell_type": "code",
   "execution_count": 90,
   "id": "60977624",
   "metadata": {},
   "outputs": [],
   "source": [
    "Sales_per_item=Sales_per_item.reset_index()"
   ]
  },
  {
   "cell_type": "code",
   "execution_count": 93,
   "id": "37192a18",
   "metadata": {},
   "outputs": [],
   "source": [
    "Sales_per_item['perc_cumsum']=(Sales_per_item['cumsum']/(Sales_per_item['cumsum'].max()))*100"
   ]
  },
  {
   "cell_type": "code",
   "execution_count": 32,
   "id": "98606697",
   "metadata": {},
   "outputs": [],
   "source": [
    "# Create a feature with the 1st-ever-sale date for every item\n",
    "items['first_sale_date'] = sales.groupby('item_id').agg({'date_block_num': 'min'})['date_block_num']\n",
    "items['first_sale_date'] = items['first_sale_date'].fillna(34)"
   ]
  },
  {
   "cell_type": "markdown",
   "id": "5643e436",
   "metadata": {},
   "source": [
    "## Items_category"
   ]
  },
  {
   "cell_type": "code",
   "execution_count": 33,
   "id": "f20f91f8",
   "metadata": {},
   "outputs": [
    {
     "data": {
      "text/html": [
       "<div>\n",
       "<style scoped>\n",
       "    .dataframe tbody tr th:only-of-type {\n",
       "        vertical-align: middle;\n",
       "    }\n",
       "\n",
       "    .dataframe tbody tr th {\n",
       "        vertical-align: top;\n",
       "    }\n",
       "\n",
       "    .dataframe thead th {\n",
       "        text-align: right;\n",
       "    }\n",
       "</style>\n",
       "<table border=\"1\" class=\"dataframe\">\n",
       "  <thead>\n",
       "    <tr style=\"text-align: right;\">\n",
       "      <th></th>\n",
       "      <th>item_category_name</th>\n",
       "      <th>item_category_id</th>\n",
       "    </tr>\n",
       "  </thead>\n",
       "  <tbody>\n",
       "    <tr>\n",
       "      <th>0</th>\n",
       "      <td>PC - Гарнитуры/Наушники</td>\n",
       "      <td>0</td>\n",
       "    </tr>\n",
       "    <tr>\n",
       "      <th>1</th>\n",
       "      <td>Аксессуары - PS2</td>\n",
       "      <td>1</td>\n",
       "    </tr>\n",
       "    <tr>\n",
       "      <th>2</th>\n",
       "      <td>Аксессуары - PS3</td>\n",
       "      <td>2</td>\n",
       "    </tr>\n",
       "    <tr>\n",
       "      <th>3</th>\n",
       "      <td>Аксессуары - PS4</td>\n",
       "      <td>3</td>\n",
       "    </tr>\n",
       "    <tr>\n",
       "      <th>4</th>\n",
       "      <td>Аксессуары - PSP</td>\n",
       "      <td>4</td>\n",
       "    </tr>\n",
       "  </tbody>\n",
       "</table>\n",
       "</div>"
      ],
      "text/plain": [
       "        item_category_name  item_category_id\n",
       "0  PC - Гарнитуры/Наушники                 0\n",
       "1         Аксессуары - PS2                 1\n",
       "2         Аксессуары - PS3                 2\n",
       "3         Аксессуары - PS4                 3\n",
       "4         Аксессуары - PSP                 4"
      ]
     },
     "execution_count": 33,
     "metadata": {},
     "output_type": "execute_result"
    }
   ],
   "source": [
    "item_cats.head()"
   ]
  },
  {
   "cell_type": "code",
   "execution_count": 34,
   "id": "e88fd7b8",
   "metadata": {},
   "outputs": [
    {
     "name": "stdout",
     "output_type": "stream",
     "text": [
      "<class 'pandas.core.frame.DataFrame'>\n",
      "RangeIndex: 84 entries, 0 to 83\n",
      "Data columns (total 2 columns):\n",
      " #   Column              Non-Null Count  Dtype \n",
      "---  ------              --------------  ----- \n",
      " 0   item_category_name  84 non-null     object\n",
      " 1   item_category_id    84 non-null     int64 \n",
      "dtypes: int64(1), object(1)\n",
      "memory usage: 1.4+ KB\n"
     ]
    }
   ],
   "source": [
    "item_cats.info()"
   ]
  },
  {
   "cell_type": "code",
   "execution_count": 35,
   "id": "db3dd437",
   "metadata": {},
   "outputs": [
    {
     "data": {
      "text/plain": [
       "0"
      ]
     },
     "execution_count": 35,
     "metadata": {},
     "output_type": "execute_result"
    }
   ],
   "source": [
    "item_cats.duplicated('item_category_name').sum()"
   ]
  },
  {
   "cell_type": "code",
   "execution_count": 36,
   "id": "18931a81",
   "metadata": {},
   "outputs": [
    {
     "data": {
      "text/plain": [
       "array(['PC - Гарнитуры/Наушники', 'Аксессуары - PS2', 'Аксессуары - PS3',\n",
       "       'Аксессуары - PS4', 'Аксессуары - PSP', 'Аксессуары - PSVita',\n",
       "       'Аксессуары - XBOX 360', 'Аксессуары - XBOX ONE', 'Билеты (Цифра)',\n",
       "       'Доставка товара', 'Игровые консоли - PS2',\n",
       "       'Игровые консоли - PS3', 'Игровые консоли - PS4',\n",
       "       'Игровые консоли - PSP', 'Игровые консоли - PSVita',\n",
       "       'Игровые консоли - XBOX 360', 'Игровые консоли - XBOX ONE',\n",
       "       'Игровые консоли - Прочие', 'Игры - PS2', 'Игры - PS3',\n",
       "       'Игры - PS4', 'Игры - PSP', 'Игры - PSVita', 'Игры - XBOX 360',\n",
       "       'Игры - XBOX ONE', 'Игры - Аксессуары для игр',\n",
       "       'Игры Android - Цифра', 'Игры MAC - Цифра',\n",
       "       'Игры PC - Дополнительные издания',\n",
       "       'Игры PC - Коллекционные издания', 'Игры PC - Стандартные издания',\n",
       "       'Игры PC - Цифра', 'Карты оплаты (Кино, Музыка, Игры)',\n",
       "       'Карты оплаты - Live!', 'Карты оплаты - Live! (Цифра)',\n",
       "       'Карты оплаты - PSN', 'Карты оплаты - Windows (Цифра)',\n",
       "       'Кино - Blu-Ray', 'Кино - Blu-Ray 3D', 'Кино - Blu-Ray 4K',\n",
       "       'Кино - DVD', 'Кино - Коллекционное',\n",
       "       'Книги - Артбуки, энциклопедии', 'Книги - Аудиокниги',\n",
       "       'Книги - Аудиокниги (Цифра)', 'Книги - Аудиокниги 1С',\n",
       "       'Книги - Бизнес литература', 'Книги - Комиксы, манга',\n",
       "       'Книги - Компьютерная литература',\n",
       "       'Книги - Методические материалы 1С', 'Книги - Открытки',\n",
       "       'Книги - Познавательная литература', 'Книги - Путеводители',\n",
       "       'Книги - Художественная литература', 'Книги - Цифра',\n",
       "       'Музыка - CD локального производства',\n",
       "       'Музыка - CD фирменного производства', 'Музыка - MP3',\n",
       "       'Музыка - Винил', 'Музыка - Музыкальное видео',\n",
       "       'Музыка - Подарочные издания', 'Подарки - Атрибутика',\n",
       "       'Подарки - Гаджеты, роботы, спорт', 'Подарки - Мягкие игрушки',\n",
       "       'Подарки - Настольные игры',\n",
       "       'Подарки - Настольные игры (компактные)',\n",
       "       'Подарки - Открытки, наклейки', 'Подарки - Развитие',\n",
       "       'Подарки - Сертификаты, услуги', 'Подарки - Сувениры',\n",
       "       'Подарки - Сувениры (в навеску)',\n",
       "       'Подарки - Сумки, Альбомы, Коврики д/мыши', 'Подарки - Фигурки',\n",
       "       'Программы - 1С:Предприятие 8', 'Программы - MAC (Цифра)',\n",
       "       'Программы - Для дома и офиса',\n",
       "       'Программы - Для дома и офиса (Цифра)', 'Программы - Обучающие',\n",
       "       'Программы - Обучающие (Цифра)', 'Служебные', 'Служебные - Билеты',\n",
       "       'Чистые носители (шпиль)', 'Чистые носители (штучные)',\n",
       "       'Элементы питания'], dtype=object)"
      ]
     },
     "execution_count": 36,
     "metadata": {},
     "output_type": "execute_result"
    }
   ],
   "source": [
    "item_cats['item_category_name'].unique()"
   ]
  },
  {
   "cell_type": "markdown",
   "id": "c61ebfc2",
   "metadata": {},
   "source": [
    "Seems we can create a \"major\" level to aggregate some categories"
   ]
  },
  {
   "cell_type": "code",
   "execution_count": 37,
   "id": "6b11cd6b",
   "metadata": {},
   "outputs": [],
   "source": [
    "# Create a major feature\n",
    "item_cats['major'] = item_cats['item_category_name'].apply(lambda x: x.split()[0])"
   ]
  },
  {
   "cell_type": "code",
   "execution_count": 38,
   "id": "eeaeccc3",
   "metadata": {},
   "outputs": [],
   "source": [
    "# Replace with 'etc' if category count is less than 5\n",
    "item_cats['major'] = item_cats['major'].apply(lambda x: x if len(item_cats[item_cats['major']==x]) >= 5 else 'other')"
   ]
  },
  {
   "cell_type": "markdown",
   "id": "cffb3227",
   "metadata": {},
   "source": [
    "## Test"
   ]
  },
  {
   "cell_type": "code",
   "execution_count": 39,
   "id": "0fde3c22",
   "metadata": {},
   "outputs": [
    {
     "data": {
      "text/html": [
       "<div>\n",
       "<style scoped>\n",
       "    .dataframe tbody tr th:only-of-type {\n",
       "        vertical-align: middle;\n",
       "    }\n",
       "\n",
       "    .dataframe tbody tr th {\n",
       "        vertical-align: top;\n",
       "    }\n",
       "\n",
       "    .dataframe thead th {\n",
       "        text-align: right;\n",
       "    }\n",
       "</style>\n",
       "<table border=\"1\" class=\"dataframe\">\n",
       "  <thead>\n",
       "    <tr style=\"text-align: right;\">\n",
       "      <th></th>\n",
       "      <th>ID</th>\n",
       "      <th>shop_id</th>\n",
       "      <th>item_id</th>\n",
       "    </tr>\n",
       "  </thead>\n",
       "  <tbody>\n",
       "    <tr>\n",
       "      <th>0</th>\n",
       "      <td>0</td>\n",
       "      <td>5</td>\n",
       "      <td>5037</td>\n",
       "    </tr>\n",
       "    <tr>\n",
       "      <th>1</th>\n",
       "      <td>1</td>\n",
       "      <td>5</td>\n",
       "      <td>5320</td>\n",
       "    </tr>\n",
       "    <tr>\n",
       "      <th>2</th>\n",
       "      <td>2</td>\n",
       "      <td>5</td>\n",
       "      <td>5233</td>\n",
       "    </tr>\n",
       "    <tr>\n",
       "      <th>3</th>\n",
       "      <td>3</td>\n",
       "      <td>5</td>\n",
       "      <td>5232</td>\n",
       "    </tr>\n",
       "    <tr>\n",
       "      <th>4</th>\n",
       "      <td>4</td>\n",
       "      <td>5</td>\n",
       "      <td>5268</td>\n",
       "    </tr>\n",
       "  </tbody>\n",
       "</table>\n",
       "</div>"
      ],
      "text/plain": [
       "   ID  shop_id  item_id\n",
       "0   0        5     5037\n",
       "1   1        5     5320\n",
       "2   2        5     5233\n",
       "3   3        5     5232\n",
       "4   4        5     5268"
      ]
     },
     "execution_count": 39,
     "metadata": {},
     "output_type": "execute_result"
    }
   ],
   "source": [
    "test.head(5)"
   ]
  },
  {
   "cell_type": "code",
   "execution_count": 40,
   "id": "151d98e7",
   "metadata": {},
   "outputs": [
    {
     "data": {
      "text/html": [
       "<div>\n",
       "<style scoped>\n",
       "    .dataframe tbody tr th:only-of-type {\n",
       "        vertical-align: middle;\n",
       "    }\n",
       "\n",
       "    .dataframe tbody tr th {\n",
       "        vertical-align: top;\n",
       "    }\n",
       "\n",
       "    .dataframe thead th {\n",
       "        text-align: right;\n",
       "    }\n",
       "</style>\n",
       "<table border=\"1\" class=\"dataframe\">\n",
       "  <thead>\n",
       "    <tr style=\"text-align: right;\">\n",
       "      <th></th>\n",
       "      <th>ID</th>\n",
       "      <th>shop_id</th>\n",
       "      <th>item_id</th>\n",
       "    </tr>\n",
       "  </thead>\n",
       "  <tbody>\n",
       "    <tr>\n",
       "      <th>count</th>\n",
       "      <td>214200.000000</td>\n",
       "      <td>214200.000000</td>\n",
       "      <td>214200.000000</td>\n",
       "    </tr>\n",
       "    <tr>\n",
       "      <th>mean</th>\n",
       "      <td>107099.500000</td>\n",
       "      <td>31.642857</td>\n",
       "      <td>11019.398627</td>\n",
       "    </tr>\n",
       "    <tr>\n",
       "      <th>std</th>\n",
       "      <td>61834.358168</td>\n",
       "      <td>17.561933</td>\n",
       "      <td>6252.644590</td>\n",
       "    </tr>\n",
       "    <tr>\n",
       "      <th>min</th>\n",
       "      <td>0.000000</td>\n",
       "      <td>2.000000</td>\n",
       "      <td>30.000000</td>\n",
       "    </tr>\n",
       "    <tr>\n",
       "      <th>25%</th>\n",
       "      <td>53549.750000</td>\n",
       "      <td>16.000000</td>\n",
       "      <td>5381.500000</td>\n",
       "    </tr>\n",
       "    <tr>\n",
       "      <th>50%</th>\n",
       "      <td>107099.500000</td>\n",
       "      <td>34.500000</td>\n",
       "      <td>11203.000000</td>\n",
       "    </tr>\n",
       "    <tr>\n",
       "      <th>75%</th>\n",
       "      <td>160649.250000</td>\n",
       "      <td>47.000000</td>\n",
       "      <td>16071.500000</td>\n",
       "    </tr>\n",
       "    <tr>\n",
       "      <th>max</th>\n",
       "      <td>214199.000000</td>\n",
       "      <td>59.000000</td>\n",
       "      <td>22167.000000</td>\n",
       "    </tr>\n",
       "  </tbody>\n",
       "</table>\n",
       "</div>"
      ],
      "text/plain": [
       "                  ID        shop_id        item_id\n",
       "count  214200.000000  214200.000000  214200.000000\n",
       "mean   107099.500000      31.642857   11019.398627\n",
       "std     61834.358168      17.561933    6252.644590\n",
       "min         0.000000       2.000000      30.000000\n",
       "25%     53549.750000      16.000000    5381.500000\n",
       "50%    107099.500000      34.500000   11203.000000\n",
       "75%    160649.250000      47.000000   16071.500000\n",
       "max    214199.000000      59.000000   22167.000000"
      ]
     },
     "execution_count": 40,
     "metadata": {},
     "output_type": "execute_result"
    }
   ],
   "source": [
    "test.describe()"
   ]
  },
  {
   "cell_type": "code",
   "execution_count": 41,
   "id": "261b3b5b",
   "metadata": {},
   "outputs": [
    {
     "data": {
      "text/plain": [
       "ID         0\n",
       "shop_id    0\n",
       "item_id    0\n",
       "dtype: int64"
      ]
     },
     "execution_count": 41,
     "metadata": {},
     "output_type": "execute_result"
    }
   ],
   "source": [
    "test.isnull().sum()"
   ]
  },
  {
   "cell_type": "code",
   "execution_count": 42,
   "id": "6a23d2ec",
   "metadata": {},
   "outputs": [
    {
     "data": {
      "text/plain": [
       "array([42])"
      ]
     },
     "execution_count": 42,
     "metadata": {},
     "output_type": "execute_result"
    }
   ],
   "source": [
    "test.groupby(\"item_id\").size().sort_values().unique()"
   ]
  },
  {
   "cell_type": "code",
   "execution_count": 43,
   "id": "ed621e85",
   "metadata": {},
   "outputs": [
    {
     "data": {
      "text/plain": [
       "5100"
      ]
     },
     "execution_count": 43,
     "metadata": {},
     "output_type": "execute_result"
    }
   ],
   "source": [
    "test['item_id'].nunique()"
   ]
  },
  {
   "cell_type": "markdown",
   "id": "173ee953",
   "metadata": {},
   "source": [
    "## Sample submission"
   ]
  },
  {
   "cell_type": "code",
   "execution_count": 44,
   "id": "58981ccf",
   "metadata": {},
   "outputs": [
    {
     "data": {
      "text/html": [
       "<div>\n",
       "<style scoped>\n",
       "    .dataframe tbody tr th:only-of-type {\n",
       "        vertical-align: middle;\n",
       "    }\n",
       "\n",
       "    .dataframe tbody tr th {\n",
       "        vertical-align: top;\n",
       "    }\n",
       "\n",
       "    .dataframe thead th {\n",
       "        text-align: right;\n",
       "    }\n",
       "</style>\n",
       "<table border=\"1\" class=\"dataframe\">\n",
       "  <thead>\n",
       "    <tr style=\"text-align: right;\">\n",
       "      <th></th>\n",
       "      <th>ID</th>\n",
       "      <th>item_cnt_month</th>\n",
       "    </tr>\n",
       "  </thead>\n",
       "  <tbody>\n",
       "    <tr>\n",
       "      <th>0</th>\n",
       "      <td>0</td>\n",
       "      <td>0.5</td>\n",
       "    </tr>\n",
       "    <tr>\n",
       "      <th>1</th>\n",
       "      <td>1</td>\n",
       "      <td>0.5</td>\n",
       "    </tr>\n",
       "    <tr>\n",
       "      <th>2</th>\n",
       "      <td>2</td>\n",
       "      <td>0.5</td>\n",
       "    </tr>\n",
       "    <tr>\n",
       "      <th>3</th>\n",
       "      <td>3</td>\n",
       "      <td>0.5</td>\n",
       "    </tr>\n",
       "    <tr>\n",
       "      <th>4</th>\n",
       "      <td>4</td>\n",
       "      <td>0.5</td>\n",
       "    </tr>\n",
       "  </tbody>\n",
       "</table>\n",
       "</div>"
      ],
      "text/plain": [
       "   ID  item_cnt_month\n",
       "0   0             0.5\n",
       "1   1             0.5\n",
       "2   2             0.5\n",
       "3   3             0.5\n",
       "4   4             0.5"
      ]
     },
     "execution_count": 44,
     "metadata": {},
     "output_type": "execute_result"
    }
   ],
   "source": [
    "sample_submission.head()"
   ]
  },
  {
   "cell_type": "code",
   "execution_count": 45,
   "id": "9482ad75",
   "metadata": {},
   "outputs": [
    {
     "name": "stdout",
     "output_type": "stream",
     "text": [
      "<class 'pandas.core.frame.DataFrame'>\n",
      "RangeIndex: 214200 entries, 0 to 214199\n",
      "Data columns (total 2 columns):\n",
      " #   Column          Non-Null Count   Dtype  \n",
      "---  ------          --------------   -----  \n",
      " 0   ID              214200 non-null  int64  \n",
      " 1   item_cnt_month  214200 non-null  float64\n",
      "dtypes: float64(1), int64(1)\n",
      "memory usage: 3.3 MB\n"
     ]
    }
   ],
   "source": [
    "sample_submission.info()"
   ]
  },
  {
   "cell_type": "markdown",
   "id": "420148ad",
   "metadata": {},
   "source": [
    "# Merging all data together"
   ]
  },
  {
   "cell_type": "code",
   "execution_count": 46,
   "id": "e793f51d",
   "metadata": {},
   "outputs": [],
   "source": [
    "train= pd.merge(sales, items, on='item_id')"
   ]
  },
  {
   "cell_type": "code",
   "execution_count": 47,
   "id": "c12d5190",
   "metadata": {},
   "outputs": [],
   "source": [
    "train= pd.merge(train, shops, on='shop_id')"
   ]
  },
  {
   "cell_type": "code",
   "execution_count": 48,
   "id": "79123405",
   "metadata": {},
   "outputs": [],
   "source": [
    "train= pd.merge(train, item_cats, on='item_category_id')"
   ]
  },
  {
   "cell_type": "code",
   "execution_count": 49,
   "id": "b8143340",
   "metadata": {},
   "outputs": [
    {
     "data": {
      "text/html": [
       "<div>\n",
       "<style scoped>\n",
       "    .dataframe tbody tr th:only-of-type {\n",
       "        vertical-align: middle;\n",
       "    }\n",
       "\n",
       "    .dataframe tbody tr th {\n",
       "        vertical-align: top;\n",
       "    }\n",
       "\n",
       "    .dataframe thead th {\n",
       "        text-align: right;\n",
       "    }\n",
       "</style>\n",
       "<table border=\"1\" class=\"dataframe\">\n",
       "  <thead>\n",
       "    <tr style=\"text-align: right;\">\n",
       "      <th></th>\n",
       "      <th>date</th>\n",
       "      <th>date_block_num</th>\n",
       "      <th>shop_id</th>\n",
       "      <th>item_id</th>\n",
       "      <th>item_price</th>\n",
       "      <th>item_cnt_day</th>\n",
       "      <th>day</th>\n",
       "      <th>month</th>\n",
       "      <th>year</th>\n",
       "      <th>week</th>\n",
       "      <th>sales</th>\n",
       "      <th>item_name</th>\n",
       "      <th>item_category_id</th>\n",
       "      <th>first_sale_date</th>\n",
       "      <th>shop_name</th>\n",
       "      <th>city</th>\n",
       "      <th>item_category_name</th>\n",
       "      <th>major</th>\n",
       "    </tr>\n",
       "  </thead>\n",
       "  <tbody>\n",
       "    <tr>\n",
       "      <th>0</th>\n",
       "      <td>2013-01-02</td>\n",
       "      <td>0</td>\n",
       "      <td>59</td>\n",
       "      <td>22154</td>\n",
       "      <td>999.0</td>\n",
       "      <td>1.0</td>\n",
       "      <td>2</td>\n",
       "      <td>1</td>\n",
       "      <td>2013</td>\n",
       "      <td>1</td>\n",
       "      <td>999.0</td>\n",
       "      <td>ЯВЛЕНИЕ 2012 (BD)</td>\n",
       "      <td>37</td>\n",
       "      <td>0.0</td>\n",
       "      <td>Ярославль ТЦ \"Альтаир\"</td>\n",
       "      <td>Ярославль</td>\n",
       "      <td>Кино - Blu-Ray</td>\n",
       "      <td>Кино</td>\n",
       "    </tr>\n",
       "    <tr>\n",
       "      <th>1</th>\n",
       "      <td>2013-04-26</td>\n",
       "      <td>3</td>\n",
       "      <td>59</td>\n",
       "      <td>944</td>\n",
       "      <td>150.0</td>\n",
       "      <td>1.0</td>\n",
       "      <td>26</td>\n",
       "      <td>4</td>\n",
       "      <td>2013</td>\n",
       "      <td>17</td>\n",
       "      <td>150.0</td>\n",
       "      <td>2012 (BD)</td>\n",
       "      <td>37</td>\n",
       "      <td>0.0</td>\n",
       "      <td>Ярославль ТЦ \"Альтаир\"</td>\n",
       "      <td>Ярославль</td>\n",
       "      <td>Кино - Blu-Ray</td>\n",
       "      <td>Кино</td>\n",
       "    </tr>\n",
       "    <tr>\n",
       "      <th>2</th>\n",
       "      <td>2013-06-26</td>\n",
       "      <td>5</td>\n",
       "      <td>59</td>\n",
       "      <td>944</td>\n",
       "      <td>199.5</td>\n",
       "      <td>1.0</td>\n",
       "      <td>26</td>\n",
       "      <td>6</td>\n",
       "      <td>2013</td>\n",
       "      <td>26</td>\n",
       "      <td>199.5</td>\n",
       "      <td>2012 (BD)</td>\n",
       "      <td>37</td>\n",
       "      <td>0.0</td>\n",
       "      <td>Ярославль ТЦ \"Альтаир\"</td>\n",
       "      <td>Ярославль</td>\n",
       "      <td>Кино - Blu-Ray</td>\n",
       "      <td>Кино</td>\n",
       "    </tr>\n",
       "    <tr>\n",
       "      <th>3</th>\n",
       "      <td>2013-07-20</td>\n",
       "      <td>6</td>\n",
       "      <td>59</td>\n",
       "      <td>944</td>\n",
       "      <td>199.5</td>\n",
       "      <td>1.0</td>\n",
       "      <td>20</td>\n",
       "      <td>7</td>\n",
       "      <td>2013</td>\n",
       "      <td>29</td>\n",
       "      <td>199.5</td>\n",
       "      <td>2012 (BD)</td>\n",
       "      <td>37</td>\n",
       "      <td>0.0</td>\n",
       "      <td>Ярославль ТЦ \"Альтаир\"</td>\n",
       "      <td>Ярославль</td>\n",
       "      <td>Кино - Blu-Ray</td>\n",
       "      <td>Кино</td>\n",
       "    </tr>\n",
       "    <tr>\n",
       "      <th>4</th>\n",
       "      <td>2013-09-14</td>\n",
       "      <td>8</td>\n",
       "      <td>59</td>\n",
       "      <td>944</td>\n",
       "      <td>299.0</td>\n",
       "      <td>2.0</td>\n",
       "      <td>14</td>\n",
       "      <td>9</td>\n",
       "      <td>2013</td>\n",
       "      <td>37</td>\n",
       "      <td>598.0</td>\n",
       "      <td>2012 (BD)</td>\n",
       "      <td>37</td>\n",
       "      <td>0.0</td>\n",
       "      <td>Ярославль ТЦ \"Альтаир\"</td>\n",
       "      <td>Ярославль</td>\n",
       "      <td>Кино - Blu-Ray</td>\n",
       "      <td>Кино</td>\n",
       "    </tr>\n",
       "    <tr>\n",
       "      <th>...</th>\n",
       "      <td>...</td>\n",
       "      <td>...</td>\n",
       "      <td>...</td>\n",
       "      <td>...</td>\n",
       "      <td>...</td>\n",
       "      <td>...</td>\n",
       "      <td>...</td>\n",
       "      <td>...</td>\n",
       "      <td>...</td>\n",
       "      <td>...</td>\n",
       "      <td>...</td>\n",
       "      <td>...</td>\n",
       "      <td>...</td>\n",
       "      <td>...</td>\n",
       "      <td>...</td>\n",
       "      <td>...</td>\n",
       "      <td>...</td>\n",
       "      <td>...</td>\n",
       "    </tr>\n",
       "    <tr>\n",
       "      <th>2433529</th>\n",
       "      <td>2015-10-22</td>\n",
       "      <td>33</td>\n",
       "      <td>55</td>\n",
       "      <td>13093</td>\n",
       "      <td>250.0</td>\n",
       "      <td>1.0</td>\n",
       "      <td>22</td>\n",
       "      <td>10</td>\n",
       "      <td>2015</td>\n",
       "      <td>43</td>\n",
       "      <td>250.0</td>\n",
       "      <td>Карта оплаты Windows: 250 рублей [Цифровая вер...</td>\n",
       "      <td>36</td>\n",
       "      <td>31.0</td>\n",
       "      <td>Цифровой склад 1С-Онлайн</td>\n",
       "      <td>Цифровой</td>\n",
       "      <td>Карты оплаты - Windows (Цифра)</td>\n",
       "      <td>Карты</td>\n",
       "    </tr>\n",
       "    <tr>\n",
       "      <th>2433530</th>\n",
       "      <td>2015-09-21</td>\n",
       "      <td>32</td>\n",
       "      <td>55</td>\n",
       "      <td>13091</td>\n",
       "      <td>1000.0</td>\n",
       "      <td>1.0</td>\n",
       "      <td>21</td>\n",
       "      <td>9</td>\n",
       "      <td>2015</td>\n",
       "      <td>39</td>\n",
       "      <td>1000.0</td>\n",
       "      <td>Карта оплаты Windows: 1000 рублей [Цифровая ве...</td>\n",
       "      <td>36</td>\n",
       "      <td>32.0</td>\n",
       "      <td>Цифровой склад 1С-Онлайн</td>\n",
       "      <td>Цифровой</td>\n",
       "      <td>Карты оплаты - Windows (Цифра)</td>\n",
       "      <td>Карты</td>\n",
       "    </tr>\n",
       "    <tr>\n",
       "      <th>2433531</th>\n",
       "      <td>2015-09-16</td>\n",
       "      <td>32</td>\n",
       "      <td>55</td>\n",
       "      <td>13094</td>\n",
       "      <td>2500.0</td>\n",
       "      <td>1.0</td>\n",
       "      <td>16</td>\n",
       "      <td>9</td>\n",
       "      <td>2015</td>\n",
       "      <td>38</td>\n",
       "      <td>2500.0</td>\n",
       "      <td>Карта оплаты Windows: 2500 рублей [Цифровая ве...</td>\n",
       "      <td>36</td>\n",
       "      <td>32.0</td>\n",
       "      <td>Цифровой склад 1С-Онлайн</td>\n",
       "      <td>Цифровой</td>\n",
       "      <td>Карты оплаты - Windows (Цифра)</td>\n",
       "      <td>Карты</td>\n",
       "    </tr>\n",
       "    <tr>\n",
       "      <th>2433532</th>\n",
       "      <td>2015-09-22</td>\n",
       "      <td>32</td>\n",
       "      <td>55</td>\n",
       "      <td>13094</td>\n",
       "      <td>2500.0</td>\n",
       "      <td>2.0</td>\n",
       "      <td>22</td>\n",
       "      <td>9</td>\n",
       "      <td>2015</td>\n",
       "      <td>39</td>\n",
       "      <td>5000.0</td>\n",
       "      <td>Карта оплаты Windows: 2500 рублей [Цифровая ве...</td>\n",
       "      <td>36</td>\n",
       "      <td>32.0</td>\n",
       "      <td>Цифровой склад 1С-Онлайн</td>\n",
       "      <td>Цифровой</td>\n",
       "      <td>Карты оплаты - Windows (Цифра)</td>\n",
       "      <td>Карты</td>\n",
       "    </tr>\n",
       "    <tr>\n",
       "      <th>2433533</th>\n",
       "      <td>2015-10-26</td>\n",
       "      <td>33</td>\n",
       "      <td>55</td>\n",
       "      <td>13092</td>\n",
       "      <td>2000.0</td>\n",
       "      <td>1.0</td>\n",
       "      <td>26</td>\n",
       "      <td>10</td>\n",
       "      <td>2015</td>\n",
       "      <td>44</td>\n",
       "      <td>2000.0</td>\n",
       "      <td>Карта оплаты Windows: 2000 рублей [Цифровая ве...</td>\n",
       "      <td>36</td>\n",
       "      <td>33.0</td>\n",
       "      <td>Цифровой склад 1С-Онлайн</td>\n",
       "      <td>Цифровой</td>\n",
       "      <td>Карты оплаты - Windows (Цифра)</td>\n",
       "      <td>Карты</td>\n",
       "    </tr>\n",
       "  </tbody>\n",
       "</table>\n",
       "<p>2433534 rows × 18 columns</p>\n",
       "</div>"
      ],
      "text/plain": [
       "              date  date_block_num  shop_id  item_id  item_price  \\\n",
       "0       2013-01-02               0       59    22154       999.0   \n",
       "1       2013-04-26               3       59      944       150.0   \n",
       "2       2013-06-26               5       59      944       199.5   \n",
       "3       2013-07-20               6       59      944       199.5   \n",
       "4       2013-09-14               8       59      944       299.0   \n",
       "...            ...             ...      ...      ...         ...   \n",
       "2433529 2015-10-22              33       55    13093       250.0   \n",
       "2433530 2015-09-21              32       55    13091      1000.0   \n",
       "2433531 2015-09-16              32       55    13094      2500.0   \n",
       "2433532 2015-09-22              32       55    13094      2500.0   \n",
       "2433533 2015-10-26              33       55    13092      2000.0   \n",
       "\n",
       "         item_cnt_day  day  month  year  week   sales  \\\n",
       "0                 1.0    2      1  2013     1   999.0   \n",
       "1                 1.0   26      4  2013    17   150.0   \n",
       "2                 1.0   26      6  2013    26   199.5   \n",
       "3                 1.0   20      7  2013    29   199.5   \n",
       "4                 2.0   14      9  2013    37   598.0   \n",
       "...               ...  ...    ...   ...   ...     ...   \n",
       "2433529           1.0   22     10  2015    43   250.0   \n",
       "2433530           1.0   21      9  2015    39  1000.0   \n",
       "2433531           1.0   16      9  2015    38  2500.0   \n",
       "2433532           2.0   22      9  2015    39  5000.0   \n",
       "2433533           1.0   26     10  2015    44  2000.0   \n",
       "\n",
       "                                                 item_name  item_category_id  \\\n",
       "0                                        ЯВЛЕНИЕ 2012 (BD)                37   \n",
       "1                                                2012 (BD)                37   \n",
       "2                                                2012 (BD)                37   \n",
       "3                                                2012 (BD)                37   \n",
       "4                                                2012 (BD)                37   \n",
       "...                                                    ...               ...   \n",
       "2433529  Карта оплаты Windows: 250 рублей [Цифровая вер...                36   \n",
       "2433530  Карта оплаты Windows: 1000 рублей [Цифровая ве...                36   \n",
       "2433531  Карта оплаты Windows: 2500 рублей [Цифровая ве...                36   \n",
       "2433532  Карта оплаты Windows: 2500 рублей [Цифровая ве...                36   \n",
       "2433533  Карта оплаты Windows: 2000 рублей [Цифровая ве...                36   \n",
       "\n",
       "         first_sale_date                 shop_name       city  \\\n",
       "0                    0.0    Ярославль ТЦ \"Альтаир\"  Ярославль   \n",
       "1                    0.0    Ярославль ТЦ \"Альтаир\"  Ярославль   \n",
       "2                    0.0    Ярославль ТЦ \"Альтаир\"  Ярославль   \n",
       "3                    0.0    Ярославль ТЦ \"Альтаир\"  Ярославль   \n",
       "4                    0.0    Ярославль ТЦ \"Альтаир\"  Ярославль   \n",
       "...                  ...                       ...        ...   \n",
       "2433529             31.0  Цифровой склад 1С-Онлайн   Цифровой   \n",
       "2433530             32.0  Цифровой склад 1С-Онлайн   Цифровой   \n",
       "2433531             32.0  Цифровой склад 1С-Онлайн   Цифровой   \n",
       "2433532             32.0  Цифровой склад 1С-Онлайн   Цифровой   \n",
       "2433533             33.0  Цифровой склад 1С-Онлайн   Цифровой   \n",
       "\n",
       "                     item_category_name  major  \n",
       "0                        Кино - Blu-Ray   Кино  \n",
       "1                        Кино - Blu-Ray   Кино  \n",
       "2                        Кино - Blu-Ray   Кино  \n",
       "3                        Кино - Blu-Ray   Кино  \n",
       "4                        Кино - Blu-Ray   Кино  \n",
       "...                                 ...    ...  \n",
       "2433529  Карты оплаты - Windows (Цифра)  Карты  \n",
       "2433530  Карты оплаты - Windows (Цифра)  Карты  \n",
       "2433531  Карты оплаты - Windows (Цифра)  Карты  \n",
       "2433532  Карты оплаты - Windows (Цифра)  Карты  \n",
       "2433533  Карты оплаты - Windows (Цифра)  Карты  \n",
       "\n",
       "[2433534 rows x 18 columns]"
      ]
     },
     "execution_count": 49,
     "metadata": {},
     "output_type": "execute_result"
    }
   ],
   "source": [
    "train"
   ]
  }
 ],
 "metadata": {
  "kernelspec": {
   "display_name": "Python 3",
   "language": "python",
   "name": "python3"
  },
  "language_info": {
   "codemirror_mode": {
    "name": "ipython",
    "version": 3
   },
   "file_extension": ".py",
   "mimetype": "text/x-python",
   "name": "python",
   "nbconvert_exporter": "python",
   "pygments_lexer": "ipython3",
   "version": "3.8.5"
  }
 },
 "nbformat": 4,
 "nbformat_minor": 5
}
